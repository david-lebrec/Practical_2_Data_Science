{
 "cells": [
  {
   "cell_type": "markdown",
   "metadata": {
    "id": "RwVxU4qPca1T"
   },
   "source": [
    "# Practical 2 : Generative and Discriminative Models\n"
   ]
  },
  {
   "cell_type": "markdown",
   "metadata": {
    "id": "-wz0KKI-ca1W"
   },
   "source": [
    "In this practical, we will compare the Naïve Bayes Classifier (NBC) and Logistic Regression on several\n",
    "datasets. As part of the practical you should read briefly the following paper:\n",
    "\n"
   ]
  },
  {
   "cell_type": "markdown",
   "metadata": {
    "id": "zmnx0P2Cca1X"
   },
   "source": [
    "**On Discriminative vs. Generative classifiers: A comparison of logistic regression\n",
    "and naive Bayes**  \n",
    "*Andrew Y. Ng and Michael I. Jordan*  \n",
    "Advances in Neural Information Processing Systems (NIPS) 2001.\n",
    "\n",
    "The paper is available on OLAT. "
   ]
  },
  {
   "cell_type": "markdown",
   "metadata": {
    "id": "2OBxndqxca1Y"
   },
   "source": [
    "You should read the Introduction and the Experiments sections. The goal of this practical is\n",
    "to qualitatively reproduce some of the experimental results in this paper. You are strongly\n",
    "encouraged to read the rest of the paper, which is rather short and straightforward to read,\n",
    "though some of you may want to skip the formal proofs."
   ]
  },
  {
   "cell_type": "markdown",
   "metadata": {
    "id": "sKNthMXfca1Y"
   },
   "source": [
    "## Naïve Bayes Classifier (NBC)"
   ]
  },
  {
   "cell_type": "markdown",
   "metadata": {
    "id": "rCueGY5Vca1Z"
   },
   "source": [
    "You should implement a Naïve Bayes Classifier from scartch using NumPy. To keep your code tidy,\n",
    "we recommend implementing it as a class. \n",
    "The classifier should be able to handle binary and continuous features. \n",
    "To earn the bonus points, the classifier should be able to handle categorical features as well. \n",
    "Suppose the data has 3\n",
    "different features, the first being binary, the second being continuous and the third being categorical. Write an implementation that you can initialise as follows:\n",
    "\n",
    "    nbc = NBC(feature_types=['b', 'r', 'c'])"
   ]
  },
  {
   "cell_type": "markdown",
   "metadata": {
    "id": "7naUjococa1a"
   },
   "source": [
    "Along the lines of classifiers provided in sklearn, you want to implement two more functions,\n",
    "**fit** and **predict**. \n",
    "Recall the joint distribution of a generative model: $p(\\mathbf{x}, y \\mid \\theta, \\pi) = p(y \\mid \\pi) \\cdot p(\\mathbf{x} \\mid y, \\theta)$.\n",
    "The **fit** function is to estimate all the parameters ($\\theta$ and $\\pi$) of the NBC, i.e., train the classifier. The **predict** function is to compute the probabilities that the new input belongs to all classes and\n",
    "then return the class that has the largest probability, i.e., make the prediction.\n",
    "\n",
    "    nbc.fit(X_train, y_train)\n",
    "    ypredicted = nbc.predict(X_test)\n",
    "    test_accuracy = np.mean(ypredicted == ytest)"
   ]
  },
  {
   "cell_type": "markdown",
   "metadata": {
    "id": "WsI_OCM_ca1a"
   },
   "source": [
    "Here we import the libraries. "
   ]
  },
  {
   "cell_type": "code",
   "execution_count": 1,
   "metadata": {
    "id": "5992UVL1ca1b"
   },
   "outputs": [],
   "source": [
    "%matplotlib inline\n",
    "import pylab\n",
    "pylab.rcParams['figure.figsize'] = (10., 10.)\n",
    "\n",
    "import pickle as cp\n",
    "import matplotlib.pyplot as plt\n",
    "import numpy as np"
   ]
  },
  {
   "cell_type": "markdown",
   "metadata": {
    "id": "MA1yqXfgca1c"
   },
   "source": [
    "### Class-conditional distributions\n",
    "\n",
    "Before implementing NBC, we first implement the class-conditional distributions $p(\\mathbf{x} \\mid y, \\theta)$. Your implementation should have two functions: **estimate** and **get_log_probability**. \n",
    "\n",
    "- The **estimate** function takes data as input and models the data using some distribution $p(x \\mid \\theta)$, where $\\theta$ is the parameters of this distribution. The function estimates the parameters $\\theta$ using maximum likelihood estimators (MLE). \n",
    "For example, in the case of continuous features, we use the Gaussian distribution to model the data. The estimate function will find the parameters $\\mu$ and $\\sigma$ for the Gaussian distribution with respect to the input data. \n",
    "\n",
    "- The **get_log_probability** function takes as input a new data point $x_{new}$ and returns the log of $p(x_{new} \\mid \\theta)$. For the Gaussian distribution, the function get_probability will return $\\mathcal{N}(x_{new} \\mid \\mu, \\sigma)$. "
   ]
  },
  {
   "cell_type": "markdown",
   "metadata": {
    "id": "I6qFOISVca1d"
   },
   "source": [
    "For different types of features, you need to use different distributions.\n",
    "You can import statistic libraries (e.g., `scipy.stats`) for the implementation of the distributions. \n",
    "\n",
    "- For **continuous features**: Use Gaussian distribution\n",
    "    https://docs.scipy.org/doc/scipy/reference/generated/scipy.stats.norm.html\n",
    "- For **binary features**: Use Bernoulli distribution \n",
    "    https://docs.scipy.org/doc/scipy/reference/generated/scipy.stats.bernoulli.html\n",
    "- For **categorical features**: Use Multinoulli distribution (The multinoulli distribution is a special case of the multinomial distribution, where the number of trials is 1)\n",
    "    https://docs.scipy.org/doc/scipy/reference/generated/scipy.stats.multinomial.html\n",
    "\n"
   ]
  },
  {
   "cell_type": "markdown",
   "metadata": {
    "id": "Z5Vmi5SPca1e"
   },
   "source": [
    "**Implementation Issues:**\n",
    "- The probabilities can be very small. To avoid underflow issues, you should compute the log of the probabilities. Read more: (Mur) Chapter 3.5.3 / Lecture Notes\n",
    "- The variance for Gaussian distributions should never be exactly 0, so in\n",
    "case your calculated variance is 0, you may want to set it to a small value such as 1e − 6. This is to ensure that your code never encounters division by zero or\n",
    "taking logarithms of 0 errors. \n",
    "For this practical, please set the small value to 1e-6.\n",
    "- Laplace/Additive smoothing: You want to ensure that the estimates for the parameter for the Bernoulli and Multinoulli random variables is never exactly 0 or 1. For this reason you should consider using Laplace smoothing (https://en.wikipedia.org/wiki/Additive_smoothing).\n",
    "For this practical, please set alpha to 1.\n",
    "- We will check the correctness of your implementation using the tests below.\n",
    "- For simplicity, you can assume the data values for binary features are integers from {0,1} and the data for a categorical feature with M categories are integers from {0, ..., M-1}.\n",
    "- Fell free to add auxiliary functions or change the parameters of the functions. If you change the parameters of the functions, make sure you change the tests accordingly, so we can test your code.\n"
   ]
  },
  {
   "cell_type": "code",
   "execution_count": 2,
   "metadata": {
    "id": "iWTbrOAyca1f"
   },
   "outputs": [],
   "source": [
    "from scipy.stats import norm\n",
    "from scipy.stats import bernoulli\n",
    "from scipy.stats import multinomial"
   ]
  },
  {
   "cell_type": "code",
   "execution_count": 3,
   "metadata": {
    "id": "8qC-RRN0ca1f"
   },
   "outputs": [],
   "source": [
    "corrector_mode=False  #False for me, and true to leave how it was written before to load a dataset"
   ]
  },
  {
   "cell_type": "code",
   "execution_count": 4,
   "metadata": {
    "id": "QwE_Ouggca1i"
   },
   "outputs": [],
   "source": [
    "ALPHA = 1.0 # for additive smoothing\n",
    "\n",
    "# Distribution for continuous features\n",
    "class ContFeatureParam:\n",
    "    \n",
    "    def estimate(self, X):\n",
    "        # TODO: Estimate the parameters for the Gaussian distribution \n",
    "        # so that it best describes the input data X\n",
    "        # The code below is just for compilation. \n",
    "        # You need to replace it by your own code.\n",
    "        ###################################################\n",
    "        ##### YOUR CODE STARTS HERE #######################\n",
    "        ###################################################\n",
    "        self.mu = norm.fit(X)[0]\n",
    "        if norm.fit(X)[1] == 0:\n",
    "            self.sigma = 1e-6\n",
    "        else:\n",
    "            self.sigma = norm.fit(X)[1]\n",
    "        \n",
    "        \n",
    "        ###################################################\n",
    "        ##### YOUR CODE ENDS HERE #########################\n",
    "        ###################################################\n",
    "\n",
    "    def get_log_probability(self, X_new):\n",
    "        # TODO: return the log of the density values for the input values X_new\n",
    "        # The code below is just for compilation. \n",
    "        # You need to replace it by your own code.\n",
    "        ###################################################\n",
    "        ##### YOUR CODE STARTS HERE #######################\n",
    "        ###################################################\n",
    "        \n",
    "        return norm.logpdf(X_new, loc=self.mu, scale=self.sigma)\n",
    "    \n",
    "        ###################################################\n",
    "        ##### YOUR CODE ENDS HERE #########################\n",
    "        ###################################################\n",
    "\n",
    "# Distribution for binary features\n",
    "class BinFeatureParam:\n",
    "    def estimate(self, X):\n",
    "        # TODO: Estimate the parameters for the Bernoulli distribution \n",
    "        # so that it best describes the input data X\n",
    "        # The code below is just for compilation. \n",
    "        # You need to replace it by your own code.\n",
    "        ###################################################\n",
    "        ##### YOUR CODE STARTS HERE #######################\n",
    "        ###################################################\n",
    "        # X is a vector with binary values\n",
    "        \n",
    "        self.p = (sum(X) + ALPHA)/(len(X) + ALPHA)\n",
    "        \n",
    "        ###################################################\n",
    "        ##### YOUR CODE ENDS HERE #########################\n",
    "        ###################################################\n",
    "\n",
    "    def get_log_probability(self, X_new):\n",
    "        # TODO: return the log of the probability values for the input values X_new\n",
    "        # The code below is just for compilation. \n",
    "        # You need to replace it by your own code.\n",
    "        ###################################################\n",
    "        ##### YOUR CODE STARTS HERE #######################\n",
    "        ###################################################\n",
    "        \n",
    "        return bernoulli.logpmf(X_new, self.p)\n",
    "    \n",
    "        ###################################################\n",
    "        ##### YOUR CODE ENDS HERE #########################\n",
    "        ###################################################\n",
    "\n",
    "# Distribution for categorical features\n",
    "class CatFeatureParam:\n",
    "    \n",
    "    # we need to know the number of categories for the categorical feature\n",
    "    def __init__(self, num_of_categories):\n",
    "        self._num_of_categories = num_of_categories\n",
    "    \n",
    "    def estimate(self, X):\n",
    "        # TODO: Estimate the parameters for the Multinoulli distribution \n",
    "        # so that it best describes the input data X\n",
    "        # The code below is just for compilation. \n",
    "        # You need to replace it by your own code.\n",
    "        ###################################################\n",
    "        ##### YOUR CODE STARTS HERE #######################\n",
    "        ###################################################\n",
    "        \n",
    "        values, counts = np.unique(X, return_counts=True)\n",
    "        #label_ranges = np.arange(values.min(), values.max()+1)\n",
    "        label_ranges = np.arange(0, self._num_of_categories)\n",
    "        counts = np.zeros(label_ranges.shape)\n",
    "        for value in label_ranges:\n",
    "          counts[value] = np.count_nonzero(X == value)\n",
    "        \n",
    "        self.p = (counts + ALPHA)/(len(X) + self._num_of_categories* ALPHA)\n",
    "        \n",
    "        ###################################################\n",
    "        ##### YOUR CODE ENDS HERE #########################\n",
    "        ###################################################\n",
    "        \n",
    "    def get_log_probability(self, X_new):\n",
    "        # TODO: return the log of the probability values for the input values X_new\n",
    "        # The code below is just for compilation. \n",
    "        # You need to replace it by your own code.\n",
    "        ###################################################\n",
    "        ##### YOUR CODE STARTS HERE #######################\n",
    "        ###################################################\n",
    "        self._X_new = np.zeros((X_new.shape[0], self._num_of_categories))\n",
    "        for x_value, index in zip(X_new, np.arange(0, X_new.shape[0])) :\n",
    "          #print('x_value,index:',x_value,index)\n",
    "          self._X_new[index, x_value] = 1\n",
    "        return multinomial.logpmf(self._X_new, n=1, p=self.p)\n",
    "        ###################################################\n",
    "        ##### YOUR CODE ENDS HERE #########################\n",
    "        ###################################################"
   ]
  },
  {
   "cell_type": "markdown",
   "metadata": {
    "id": "CrY-tJr6ca1j"
   },
   "source": [
    "**Tests:**\n",
    "    \n",
    "We will use the code below to test the correctness of your code."
   ]
  },
  {
   "cell_type": "code",
   "execution_count": 5,
   "metadata": {
    "colab": {
     "base_uri": "https://localhost:8080/"
    },
    "id": "WEn9lVHkca1j",
    "outputId": "a1a1b67f-e661-41ba-fa94-a5ddb1654638"
   },
   "outputs": [
    {
     "name": "stdout",
     "output_type": "stream",
     "text": [
      "[-5.64670664 -3.02757918 -1.44567455 -0.90099277]\n"
     ]
    }
   ],
   "source": [
    "# continuous features\n",
    "\n",
    "X = np.array([2.70508547,2.10499698,1.76019132,3.42016431,3.47037973,3.67435061,1.84749286,4.3388506,2.27818252,4.65165335])\n",
    "\n",
    "param = ContFeatureParam()\n",
    "param.estimate(X)\n",
    "probs = param.get_log_probability(np.array([0,1,2,3]))\n",
    "print(probs)"
   ]
  },
  {
   "cell_type": "code",
   "execution_count": 6,
   "metadata": {
    "colab": {
     "base_uri": "https://localhost:8080/"
    },
    "id": "2zdftgI9ca1k",
    "outputId": "21500ac6-bb85-47f5-b9fe-cfec740e1b77"
   },
   "outputs": [
    {
     "data": {
      "text/plain": [
       "0.9818925482223455"
      ]
     },
     "execution_count": 6,
     "metadata": {},
     "output_type": "execute_result"
    }
   ],
   "source": [
    "param.mu\n",
    "param.sigma"
   ]
  },
  {
   "cell_type": "code",
   "execution_count": 7,
   "metadata": {
    "colab": {
     "base_uri": "https://localhost:8080/"
    },
    "id": "vqWYtDubca1m",
    "outputId": "a9df437b-862a-4bf0-f143-992f1719c574"
   },
   "outputs": [
    {
     "name": "stdout",
     "output_type": "stream",
     "text": [
      "[-1.01160091 -0.45198512]\n"
     ]
    }
   ],
   "source": [
    "# binary features\n",
    "\n",
    "X = np.array([0,0,1,1,0,1,0,1,1,1])\n",
    "#X = np.array([0,0,0,0,0,0,0,0,0,0])\n",
    "#X = np.array([1,1,1,1,1,1,1,1,1,1])\n",
    "param = BinFeatureParam()\n",
    "param.estimate(X)\n",
    "probs = param.get_log_probability(np.array([0,1]))\n",
    "print(probs)"
   ]
  },
  {
   "cell_type": "code",
   "execution_count": 8,
   "metadata": {
    "colab": {
     "base_uri": "https://localhost:8080/"
    },
    "id": "Px3NRE0Oca1m",
    "outputId": "5deaf09e-221b-4319-a32b-11a4d4646918"
   },
   "outputs": [
    {
     "data": {
      "text/plain": [
       "0.6363636363636364"
      ]
     },
     "execution_count": 8,
     "metadata": {},
     "output_type": "execute_result"
    }
   ],
   "source": [
    "param.p"
   ]
  },
  {
   "cell_type": "code",
   "execution_count": 9,
   "metadata": {
    "colab": {
     "base_uri": "https://localhost:8080/"
    },
    "id": "h64LDdtEca1n",
    "outputId": "681acf35-e84c-4202-cf76-8e3aacacd988",
    "scrolled": true
   },
   "outputs": [
    {
     "name": "stdout",
     "output_type": "stream",
     "text": [
      "[-1.94591015 -2.1690537  -1.94591015 -2.45673577 -2.1690537  -2.86220088\n",
      " -1.94591015 -3.55534806 -2.1690537  -2.86220088]\n"
     ]
    }
   ],
   "source": [
    "# categorical features (bonus task)\n",
    "\n",
    "X = np.array([0,6,5,4,0,6,6,4,1,1,2,3,8,8,1,6,4,9,0,2,2,3,8,0,2])\n",
    "\n",
    "param = CatFeatureParam(num_of_categories=10)\n",
    "param.estimate(X)\n",
    "probs = param.get_log_probability(np.array([0,1,2,3,4,5,6,7,8,9]))\n",
    "print(probs)"
   ]
  },
  {
   "cell_type": "code",
   "execution_count": 10,
   "metadata": {
    "colab": {
     "base_uri": "https://localhost:8080/"
    },
    "id": "pG5IARPDca1n",
    "outputId": "8613d6df-4afd-481e-d6b6-0a399a6fb47b"
   },
   "outputs": [
    {
     "data": {
      "text/plain": [
       "array([0.14285714, 0.11428571, 0.14285714, 0.08571429, 0.11428571,\n",
       "       0.05714286, 0.14285714, 0.02857143, 0.11428571, 0.05714286])"
      ]
     },
     "execution_count": 10,
     "metadata": {},
     "output_type": "execute_result"
    }
   ],
   "source": [
    "param.p"
   ]
  },
  {
   "cell_type": "code",
   "execution_count": 11,
   "metadata": {
    "colab": {
     "base_uri": "https://localhost:8080/"
    },
    "id": "jEJXkx-6ca1o",
    "outputId": "4a3b9ba7-a6a6-4379-d11b-0dc96cc9e263"
   },
   "outputs": [
    {
     "data": {
      "text/plain": [
       "1.0"
      ]
     },
     "execution_count": 11,
     "metadata": {},
     "output_type": "execute_result"
    }
   ],
   "source": [
    "np.sum(param.p)"
   ]
  },
  {
   "cell_type": "markdown",
   "metadata": {
    "id": "leKjydtUca1o"
   },
   "source": [
    "### Implement NBC\n",
    "\n",
    "We are now ready to implement NBC. We follow the structure of models in scikit-learn. We implement NBC as a class with functions **init**, **fit** and **predict**.\n",
    "The **init** function takes as input the types of features and initialise the classifier. The **fit** function takes the training data as input and estimates the parameters. The **predict** function predicts the label for the input data. "
   ]
  },
  {
   "cell_type": "markdown",
   "metadata": {
    "id": "4pkCWSDlca1p"
   },
   "source": [
    "**Implementation Issues:**\n",
    "- You should use matrix operations rather than loops. In general, loops over classes or features are OK, but loops over the rows of data are not a good idea.\n",
    "- The probabilities can be very small. To avoid underflow issues, you should do the calculations in log space. Read more: (Mur) Chapter 3.5.3 / Lecture Note\n",
    "- For simplicity, you can assume the data values for binary features are integers from {0, 1} and the data for a categorical feature with M categories are integers from {0, ..., M-1}.\n",
    "- Fell free to add auxiliary functions or change the parameters of the functions. If you change the parameters of the functions, make sure you change the tests accordingly, so we can test your code."
   ]
  },
  {
   "cell_type": "code",
   "execution_count": 12,
   "metadata": {
    "id": "hVNQ7ANrca1p"
   },
   "outputs": [],
   "source": [
    "# Your task is to implement the three functions of NBC. \n",
    "\n",
    "class NBC:\n",
    "    # Inputs:\n",
    "    #   feature_types: the array of the types of the features, e.g., feature_types=['b', 'r', 'c']\n",
    "    def __init__(self, feature_types=[]):\n",
    "        # TODO: \n",
    "        # The code below is just for compilation. \n",
    "        # You need to replace it by your own code.\n",
    "        ###################################################\n",
    "        ##### YOUR CODE STARTS HERE #######################\n",
    "        ###################################################\n",
    "        \n",
    "        self.list_b = []\n",
    "        self.list_r = []\n",
    "        self.list_c = []\n",
    "        \n",
    "        iterator=0\n",
    "        for feature in feature_types:\n",
    "            if feature == 'b':\n",
    "                #self.BinF_Param = BinFeatureParam()\n",
    "                self.list_b.append(iterator)   # iterator numero de colonne\n",
    "            elif feature == 'r':\n",
    "                #self.ContF_Param = ContFeatureParam()\n",
    "                self.list_r.append(iterator)\n",
    "            elif feature == 'c':\n",
    "                self.list_c.append(iterator)\n",
    "            else:\n",
    "                print('error : feature type not recognized')\n",
    "            iterator=iterator+1\n",
    "        \n",
    "        ###################################################\n",
    "        ##### YOUR CODE ENDS HERE #########################\n",
    "        ###################################################\n",
    "\n",
    "        \n",
    "    # The function uses the input data to estimate all the parameters of the NBC\n",
    "    def fit(self, X, y):\n",
    "        # TODO: \n",
    "        # The code below is just for compilation. \n",
    "        # You need to replace it by your own code.\n",
    "        ###################################################\n",
    "        ##### YOUR CODE STARTS HERE #######################\n",
    "        ###################################################\n",
    "        \n",
    "        self.list_params_binary=[]\n",
    "        self.list_params_continuous=[]\n",
    "        self.list_params_categorical=[]\n",
    "\n",
    "        self.n_rows = len(y)  # total number of rows\n",
    "        self.list_proba_y=[]\n",
    "        self.y_classes = np.unique(y)\n",
    "\n",
    "        #print('number of classes:', self.y_classes)\n",
    "\n",
    "        for classe in self.y_classes:\n",
    "            #y.count(classe)/N_y  proba to be part of that class\n",
    "            self.list_proba_y.append(y.tolist().count(classe)/self.n_rows)      # p(y|pi)\n",
    "\n",
    "            for index in self.list_b:\n",
    "                BinF_Param = BinFeatureParam()\n",
    "                BinF_Param.estimate(X[y==classe][:,index])\n",
    "                self.list_params_binary.append((BinF_Param, classe, index))\n",
    "              \n",
    "            for index in self.list_r:\n",
    "                ContF_Param = ContFeatureParam()\n",
    "                ContF_Param.estimate(X[y==classe][:,index]) # p(x|y=0), p(x|y=1), ...\n",
    "                self.list_params_continuous.append((ContF_Param, classe, index))\n",
    "            \n",
    "            for index in self.list_c:\n",
    "                CatF_Param = CatFeatureParam(num_of_categories=np.max(X[:,index])+1)\n",
    "                \n",
    "                CatF_Param.estimate(X[y==classe][:,index])\n",
    "                self.list_params_categorical.append((CatF_Param, classe, index))\n",
    "                \n",
    "                #self._num_of_categories = num_of_categories\n",
    "        ###################################################\n",
    "        ##### YOUR CODE ENDS HERE #########################\n",
    "        ###################################################\n",
    "                \n",
    "                \n",
    "    # The function takes the data X as input, and predicts the class for the data\n",
    "    def predict(self, X):\n",
    "        # TODO: \n",
    "        # The code below is just for compilation. \n",
    "        # You need to replace it by your own code.\n",
    "        ###################################################\n",
    "        ##### YOUR CODE STARTS HERE #######################\n",
    "        ###################################################\n",
    "              \n",
    "        results=np.zeros((X.shape[0], len(self.y_classes)))\n",
    "        #print(X.shape)\n",
    "        for classe, prob_pi in zip(self.y_classes, self.list_proba_y):\n",
    "            #print('classe', classe)\n",
    "            #print('probability', np.log(prob_pi))\n",
    "            prob_c = np.log(prob_pi)\n",
    "            \n",
    "            for column in self.list_r:\n",
    "                X_new = X[:,column]\n",
    "                for params_c in self.list_params_continuous:\n",
    "                    if (params_c[1] == classe) & (params_c[2] == column):\n",
    "                        #print(\"classe\", params_c[1])                \n",
    "                        #print(\"column\", params_c[2])\n",
    "                        #print(params_c)\n",
    "                        prob_c = prob_c + params_c[0].get_log_probability(X_new)\n",
    "                        \n",
    "            #print(prob_c)\n",
    "            for column in self.list_b:\n",
    "                X_new = X[:,column]\n",
    "                for params_b in self.list_params_binary:\n",
    "                    if (params_b[1] == classe) & (params_b[2] == column):\n",
    "                        prob_c = prob_c + params_b[0].get_log_probability(X_new)\n",
    "            #results = np.append(results, prob_c, axis=0)\n",
    "            \n",
    "            for column in self.list_c:\n",
    "                X_new = X[:,column]\n",
    "                for params_cat in self.list_params_categorical:\n",
    "                    if (params_cat[1] == classe) & (params_cat[2] == column):\n",
    "                        prob_c = prob_c + params_cat[0].get_log_probability(X_new)\n",
    "                        \n",
    "            #print(results)\n",
    "            #print('results.shape:',results.shape)           \n",
    "            results[:,classe] = prob_c\n",
    "        #print(results)\n",
    "        return np.argmax(results, axis=1)\n",
    "        #pour chaque variable récupérer objet, appliquer get log proba, le multiplier par proba de classe\n",
    "        ###################################################\n",
    "        ##### YOUR CODE ENDS HERE #########################\n",
    "        ###################################################\n"
   ]
  },
  {
   "cell_type": "markdown",
   "metadata": {
    "id": "QA1wu6hSca1q"
   },
   "source": [
    "**Tests**\n",
    "\n",
    "We will use the code below to check your code."
   ]
  },
  {
   "cell_type": "code",
   "execution_count": 13,
   "metadata": {
    "colab": {
     "base_uri": "https://localhost:8080/"
    },
    "id": "ipMnxCKLca1r",
    "outputId": "ec048d8e-2247-4989-8754-f697985d25cb"
   },
   "outputs": [
    {
     "name": "stdout",
     "output_type": "stream",
     "text": [
      "Accuracy: 0.9333333333333333\n",
      "[2 2 2 2 2 2 2 2 2 2 2 2 2 1 1 2 2 2 2 2 2 2 2 2 2 2 2 2 2 2]\n",
      "[2 2 2 2 2 2 2 2 2 2 2 2 2 2 2 2 2 2 2 2 2 2 2 2 2 2 2 2 2 2]\n"
     ]
    }
   ],
   "source": [
    "# All features of the iris dataset are continuous.\n",
    "\n",
    "from sklearn.datasets import load_iris\n",
    "iris = load_iris()\n",
    "X, y = iris['data'], iris['target']\n",
    "\n",
    "N, D = X.shape\n",
    "Ntrain = int(0.8 * N)\n",
    "Xtrain = X[:Ntrain]\n",
    "ytrain = y[:Ntrain]\n",
    "Xtest = X[Ntrain:]\n",
    "ytest = y[Ntrain:]\n",
    "\n",
    "\n",
    "nbc_iris = NBC(feature_types=['r', 'r', 'r', 'r'])\n",
    "nbc_iris.fit(Xtrain, ytrain)\n",
    "yhat = nbc_iris.predict(Xtest)\n",
    "test_accuracy = np.mean(yhat == ytest)\n",
    "\n",
    "print(\"Accuracy:\", test_accuracy) # should be larger than 90%\n",
    "print(yhat)\n",
    "print(ytest)"
   ]
  },
  {
   "cell_type": "code",
   "execution_count": 14,
   "metadata": {
    "colab": {
     "base_uri": "https://localhost:8080/"
    },
    "id": "vHrLbbtreU9L",
    "outputId": "34ddd874-35f7-4f11-ea5c-44e6390134f2"
   },
   "outputs": [
    {
     "data": {
      "text/plain": [
       "(150,)"
      ]
     },
     "execution_count": 14,
     "metadata": {},
     "output_type": "execute_result"
    }
   ],
   "source": [
    "y.shape"
   ]
  },
  {
   "cell_type": "code",
   "execution_count": 15,
   "metadata": {
    "colab": {
     "base_uri": "https://localhost:8080/"
    },
    "id": "2p26SJjxca1s",
    "outputId": "87934aa8-1bec-49fb-a848-e1df59ea319f"
   },
   "outputs": [
    {
     "name": "stdout",
     "output_type": "stream",
     "text": [
      "Accuracy: 0.8723404255319149\n",
      "[1 0 1 1 0 1 1 0 0 1 1 1 0 1 1 1 1 1 0 1 1 0 1 0 0 1 1 1 0 1 1 1 0 1 0 1 0\n",
      " 0 0 1 0 0 0 0 1 1 0]\n",
      "[1 0 1 1 1 1 1 0 0 1 1 0 0 1 1 0 1 1 0 0 0 0 1 0 0 1 1 1 0 0 1 1 0 1 0 1 0\n",
      " 0 0 1 0 0 0 0 1 1 0]\n",
      "[0 1 1 0 1 1 0 0 0 0 0 0 1 1 1 1]\n"
     ]
    }
   ],
   "source": [
    "# All features of this dataset are binary\n",
    "import pandas as pd\n",
    "if corrector_mode==True:\n",
    "    path = './datasets/'\n",
    "else:\n",
    "    path='C:/Users/david/OneDrive/Documents/Données Data Science/'\n",
    "\n",
    "data=pd.read_csv(path+'binary_test.csv', header = None)\n",
    "#data = pd.read_csv('C:/Users/david/OneDrive/Documents/Données Data Science/binary_test.csv', header=None)\n",
    "#./datasets/binary_test.csv\n",
    "data = data.to_numpy()\n",
    "\n",
    "X = data[:,1:]\n",
    "y = data[:,0]\n",
    "\n",
    "N, D = X.shape\n",
    "Ntrain = int(0.8 * N)\n",
    "Xtrain = X[:Ntrain]\n",
    "ytrain = y[:Ntrain]\n",
    "Xtest = X[Ntrain:]\n",
    "ytest = y[Ntrain:]\n",
    "\n",
    "\n",
    "nbc = NBC(feature_types=['b'] * 16)\n",
    "nbc.fit(Xtrain, ytrain)\n",
    "yhat = nbc.predict(Xtest)\n",
    "test_accuracy = np.mean(yhat == ytest)\n",
    "\n",
    "print(\"Accuracy:\", test_accuracy) # should be larger than 85%\n",
    "print(yhat)\n",
    "print(ytest)\n",
    "print(Xtrain[0])"
   ]
  },
  {
   "cell_type": "code",
   "execution_count": 16,
   "metadata": {
    "colab": {
     "base_uri": "https://localhost:8080/",
     "height": 483
    },
    "id": "6DBJY6PBca1s",
    "outputId": "3d20499f-5a2a-4956-d103-455f5845b629"
   },
   "outputs": [
    {
     "name": "stdout",
     "output_type": "stream",
     "text": [
      "Accuracy: 0.6896551724137931\n",
      "[0 1 0 1 1 0 1 1 0 1 0 0 1 0 1 0 0 0 0 0 0 0 1 0 0 1 1 0 1 0 1 0 0 0 0 1 0\n",
      " 1 0 0 0 0 0 0 1 0 0 0 0 0 0 0 1 0 0 0 0 0]\n",
      "[0 0 1 1 0 0 0 1 1 1 0 0 0 0 1 1 0 0 1 0 0 0 0 0 0 0 0 0 1 0 0 0 0 0 0 0 0\n",
      " 1 0 0 0 0 0 0 0 0 0 1 0 0 1 0 1 0 1 0 0 1]\n",
      "[[ 1  2  2 ...  1  2  0]\n",
      " [ 3  0  4 ...  1  3  0]\n",
      " [ 1  1  2 ...  1  3  0]\n",
      " ...\n",
      " [ 3  2  5 ...  0  2  0]\n",
      " [ 2  2  5 ...  0  5  0]\n",
      " [ 3  2 10 ...  1  3  0]]\n"
     ]
    }
   ],
   "source": [
    "# All features of this dataset are categorical (bonus task)\n",
    "\n",
    "if corrector_mode==True:\n",
    "    path = './datasets/'\n",
    "else:\n",
    "    path='C:/Users/david/OneDrive/Documents/Données Data Science/'\n",
    "\n",
    "data=pd.read_csv(path+'categorical_test.csv', header = None)\n",
    "\n",
    "#data = pd.read_csv('C:/Users/david/OneDrive/Documents/Données Data Science/categorical_test.csv', header=None)\n",
    "#./datasets/categorical_test.csv\n",
    "data = data.to_numpy()\n",
    "\n",
    "X = data[:,:-1]\n",
    "y = data[:,-1]\n",
    "\n",
    "N, D = X.shape\n",
    "Ntrain = int(0.8 * N)\n",
    "Xtrain = X[:Ntrain]\n",
    "ytrain = y[:Ntrain]\n",
    "Xtest = X[Ntrain:]\n",
    "ytest = y[Ntrain:]\n",
    "\n",
    "\n",
    "nbc = NBC(feature_types=['c'] * 9)\n",
    "nbc.fit(Xtrain, ytrain)\n",
    "yhat = nbc.predict(Xtest)\n",
    "test_accuracy = np.mean(yhat == ytest)\n",
    "\n",
    "print(\"Accuracy:\", test_accuracy) # should be larger than 65%\n",
    "print(yhat) \n",
    "print(ytest)\n",
    "print(Xtrain)"
   ]
  },
  {
   "cell_type": "markdown",
   "metadata": {
    "id": "K8XWDU53ca1t"
   },
   "source": [
    "## Logistic Regression"
   ]
  },
  {
   "cell_type": "markdown",
   "metadata": {
    "id": "bAzqCMZPca1t"
   },
   "source": [
    "For logistic regression, you should use the implementation in scikit-learn. Add the following\n",
    "line to import the LR model."
   ]
  },
  {
   "cell_type": "code",
   "execution_count": 17,
   "metadata": {
    "id": "ZFoY0AhSca1t"
   },
   "outputs": [],
   "source": [
    "from sklearn.linear_model import LogisticRegression"
   ]
  },
  {
   "cell_type": "markdown",
   "metadata": {
    "id": "a2mvboxnca1u"
   },
   "source": [
    "Check the scikit-learn documentation for the Logistic Regression model:\n",
    "- http://scikit-learn.org/stable/modules/linear_model.html#logistic-regression\n",
    "- http://scikit-learn.org/stable/modules/generated/sklearn.linear_model.LogisticRegression.html#sklearn.linear_model.LogisticRegression\n"
   ]
  },
  {
   "cell_type": "markdown",
   "metadata": {
    "id": "UjU4QgCaca1u"
   },
   "source": [
    "## Comparing NBC and LR"
   ]
  },
  {
   "cell_type": "markdown",
   "metadata": {
    "id": "Pqct57xnca1u"
   },
   "source": [
    "### Experiments\n",
    "\n",
    "The experiment is to compare the classification error of the NBC and LR trained on increasingly larger training datasets. \n",
    "Since the datasets are so small, you should do this multiple times and\n",
    "average the classification error. One run should look as follows:\n",
    "- Shuffle the data, put 20% aside for testing.\n",
    "    \n",
    "    ```N, D = X.shape\n",
    "    Ntrain = int(0.8 * N)\n",
    "    shuffler = np.random.permutation(N)\n",
    "    Xtrain = X[shuffler[:Ntrain]]\n",
    "    ytrain = y[shuffler[:Ntrain]]\n",
    "    Xtest = X[shuffler[Ntrain:]]\n",
    "    ytest = y[shuffler[Ntrain:]]\n",
    "    \n",
    "    ```  \n",
    "\n",
    "\n",
    "- Train the classifiers with increasingly more data. For example, we can train classifiers with 10%, 20%, ..., 100% of the training data. For each case store the classification errors on the test set of the classifiers.\n",
    "\n",
    "You may want to repeat this with at least 200 random permutations (possibly as large as 1000)\n",
    "to average out the test error across the runs. In the end, you will get average test errors as a function of the size of the training data. \n",
    "We have written for you the function for making the plots for the experiments. "
   ]
  },
  {
   "cell_type": "code",
   "execution_count": 18,
   "metadata": {
    "id": "j_DhgZ0Bca1v"
   },
   "outputs": [],
   "source": [
    "# inputs:\n",
    "#   nbc: Naive Bayes Classifier\n",
    "#   lr: Logistic Regression Classifier\n",
    "#   X, y: data\n",
    "#   num_runs: we need repeat num_runs times and store average results\n",
    "#   num_splits: we want to compare the two models on increasingly larger training sets.\n",
    "#               num_splits defines the number of increasing steps. \n",
    "# outputs:\n",
    "#   the arrays of the test errors across the runs of the two classifiers \n",
    "\n",
    "from sklearn.preprocessing import MinMaxScaler, StandardScaler\n",
    "\n",
    "def compareNBCvsLR(nbc, lr, X, y, num_runs=200, num_splits=10, standardize_boolean=False):\n",
    "    \n",
    "    # The code below is just for compilation. \n",
    "    # You need to replace it by your own code.\n",
    "    ###################################################\n",
    "    ##### YOUR CODE STARTS HERE #######################\n",
    "    ###################################################\n",
    "    tst_errs_nbc = []\n",
    "    tst_errs_lr = []\n",
    "    N, D = X.shape\n",
    "    i=1\n",
    "   \n",
    "    Ntrain = int(0.8*N)\n",
    "\n",
    "    for split_index in range(num_splits):\n",
    "        \n",
    "        Ntrain_split=int(((split_index+1)/num_splits)*Ntrain) \n",
    "        list_errs_nbc_runs=[]\n",
    "        list_errs_lr_runs=[]        \n",
    "        print('Split:',split_index)\n",
    "\n",
    "\n",
    "        for index in range(num_runs):\n",
    "\n",
    "            #print(Ntrain_split)\n",
    "            shuffler = np.random.permutation(N)\n",
    "            Xtrain = X[shuffler[:Ntrain_split]]\n",
    "            ytrain = y[shuffler[:Ntrain_split]]\n",
    "            \n",
    "            while len(np.unique(ytrain)) != len(np.unique(y)):\n",
    "                shuffler = np.random.permutation(N)\n",
    "                Xtrain = X[shuffler[:Ntrain_split]]\n",
    "                ytrain = y[shuffler[:Ntrain_split]]\n",
    "\n",
    "            Xtest = X[shuffler[Ntrain:]]\n",
    "            ytest = y[shuffler[Ntrain:]]\n",
    "            \n",
    "            if standardize_boolean==True:\n",
    "                \n",
    "\n",
    "                scaler = StandardScaler()\n",
    "                scaler.fit(Xtrain)\n",
    "                Xtrain=scaler.transform(Xtrain)\n",
    "                Xtest=scaler.transform(Xtest)\n",
    "            \n",
    "            nbc.fit(Xtrain, ytrain)\n",
    "            yhat_nbc = nbc.predict(Xtest)\n",
    "\n",
    "            lr.fit(Xtrain, ytrain)\n",
    "\n",
    "            yhat_lr = lr.predict(Xtest)\n",
    "\n",
    "            test_accuracy_nbc = np.mean(yhat_nbc == ytest)\n",
    "            test_accuracy_lr = np.mean(yhat_lr == ytest)\n",
    "            list_errs_nbc_runs.append(test_accuracy_nbc)\n",
    "            list_errs_lr_runs.append(test_accuracy_lr)\n",
    "         \n",
    "        tst_errs_nbc.append(1-np.mean(list_errs_nbc_runs))\n",
    "        tst_errs_lr.append(1-np.mean(list_errs_lr_runs))\n",
    "    return tst_errs_nbc, tst_errs_lr\n",
    "    ###################################################\n",
    "    ##### YOUR CODE ENDS HERE #########################\n",
    "    ###################################################"
   ]
  },
  {
   "cell_type": "code",
   "execution_count": null,
   "metadata": {
    "id": "iGBKDaOUca1v"
   },
   "outputs": [],
   "source": []
  },
  {
   "cell_type": "code",
   "execution_count": 19,
   "metadata": {
    "id": "SEqsmP_Aca1v"
   },
   "outputs": [],
   "source": [
    "def makePlot(nbc_perf, lr_perf, title=None, num_splits=10):\n",
    "    fig = plt.figure()\n",
    "    ax = fig.add_subplot(1, 1, 1)\n",
    "\n",
    "    ax.tick_params(axis='both', labelsize=20)\n",
    "\n",
    "    ax.set_xlabel('Percent of training data used', fontsize=20)\n",
    "    ax.set_ylabel('Classification Error', fontsize=20)\n",
    "    if title is not None: ax.set_title(title, fontsize=25)\n",
    "\n",
    "    xaxis_scale = [(i + 1) * (100/num_splits) for i in range(num_splits)]\n",
    "    plt.plot(xaxis_scale, nbc_perf, label='Naive Bayes')\n",
    "    plt.plot(xaxis_scale, lr_perf, label='Logistic Regression', linestyle='dashed')\n",
    "    \n",
    "    ax.legend(loc='upper right', fontsize=20)"
   ]
  },
  {
   "cell_type": "code",
   "execution_count": 20,
   "metadata": {
    "colab": {
     "base_uri": "https://localhost:8080/"
    },
    "id": "ZIUUzoFUca1w",
    "outputId": "d0ad54c8-9d80-449c-ea0f-5db571e40cd4"
   },
   "outputs": [
    {
     "name": "stdout",
     "output_type": "stream",
     "text": [
      "Split: 0\n",
      "Split: 1\n",
      "Split: 2\n",
      "Split: 3\n",
      "Split: 4\n",
      "Split: 5\n",
      "Split: 6\n",
      "Split: 7\n",
      "Split: 8\n",
      "Split: 9\n"
     ]
    }
   ],
   "source": [
    "data = pd.read_csv('./binary_test.csv', header=None)\n",
    "#./datasets/binary_test.csv\n",
    "data = data.to_numpy()\n",
    "\n",
    "X = data[:,1:]\n",
    "y = data[:,0]\n",
    "nbc_bin = NBC(feature_types=['b'] * 16)\n",
    "lr = LogisticRegression(random_state=0)\n",
    "tst_errs_nbc, tst_errs_lr = compareNBCvsLR(nbc_bin, lr, X, y, num_runs=500, num_splits=10, standardize_boolean=False)\n"
   ]
  },
  {
   "cell_type": "code",
   "execution_count": 21,
   "metadata": {
    "colab": {
     "base_uri": "https://localhost:8080/",
     "height": 297
    },
    "id": "4hJTnCYsca1w",
    "outputId": "8b4df3c4-8c4a-441f-8cc1-d0ac856bdd26"
   },
   "outputs": [
    {
     "data": {
      "image/png": "[encoded data removed]",
      "text/plain": [
       "<Figure size 720x720 with 1 Axes>"
      ]
     },
     "metadata": {
      "needs_background": "light"
     },
     "output_type": "display_data"
    }
   ],
   "source": [
    "makePlot(tst_errs_nbc, tst_errs_lr, title='test', num_splits=10)"
   ]
  },
  {
   "cell_type": "code",
   "execution_count": null,
   "metadata": {
    "id": "RWftXFqDp2_J"
   },
   "outputs": [],
   "source": []
  },
  {
   "cell_type": "markdown",
   "metadata": {
    "id": "TpLqvjDKca1x"
   },
   "source": [
    "### Datasets"
   ]
  },
  {
   "cell_type": "markdown",
   "metadata": {
    "id": "cxm3bkejca1x"
   },
   "source": [
    "Tasks: For each dataset,\n",
    "1. prepare the data for the two classifiers, e.g., handle missing values, handle text/categorical data, etc.\n",
    "2. compare the two classifiers on the dataset and generate the plots\n",
    "3. write a short report of how you prepare the data and your observations of the comparison "
   ]
  },
  {
   "cell_type": "markdown",
   "metadata": {
    "id": "0N52SF_kca1x"
   },
   "source": [
    "**Dataset 1: Iris Dataset**\n",
    "\n",
    "https://scikit-learn.org/stable/auto_examples/datasets/plot_iris_dataset.html"
   ]
  },
  {
   "cell_type": "code",
   "execution_count": 22,
   "metadata": {
    "colab": {
     "base_uri": "https://localhost:8080/",
     "height": 206
    },
    "id": "KbMyH5y7ca1x",
    "outputId": "17c022df-51aa-47b7-a772-0e9a67248aa9"
   },
   "outputs": [
    {
     "data": {
      "text/html": [
       "<div>\n",
       "<style scoped>\n",
       "    .dataframe tbody tr th:only-of-type {\n",
       "        vertical-align: middle;\n",
       "    }\n",
       "\n",
       "    .dataframe tbody tr th {\n",
       "        vertical-align: top;\n",
       "    }\n",
       "\n",
       "    .dataframe thead th {\n",
       "        text-align: right;\n",
       "    }\n",
       "</style>\n",
       "<table border=\"1\" class=\"dataframe\">\n",
       "  <thead>\n",
       "    <tr style=\"text-align: right;\">\n",
       "      <th></th>\n",
       "      <th>sepal length (cm)</th>\n",
       "      <th>sepal width (cm)</th>\n",
       "      <th>petal length (cm)</th>\n",
       "      <th>petal width (cm)</th>\n",
       "      <th>target</th>\n",
       "    </tr>\n",
       "  </thead>\n",
       "  <tbody>\n",
       "    <tr>\n",
       "      <th>0</th>\n",
       "      <td>5.1</td>\n",
       "      <td>3.5</td>\n",
       "      <td>1.4</td>\n",
       "      <td>0.2</td>\n",
       "      <td>0.0</td>\n",
       "    </tr>\n",
       "    <tr>\n",
       "      <th>1</th>\n",
       "      <td>4.9</td>\n",
       "      <td>3.0</td>\n",
       "      <td>1.4</td>\n",
       "      <td>0.2</td>\n",
       "      <td>0.0</td>\n",
       "    </tr>\n",
       "    <tr>\n",
       "      <th>2</th>\n",
       "      <td>4.7</td>\n",
       "      <td>3.2</td>\n",
       "      <td>1.3</td>\n",
       "      <td>0.2</td>\n",
       "      <td>0.0</td>\n",
       "    </tr>\n",
       "    <tr>\n",
       "      <th>3</th>\n",
       "      <td>4.6</td>\n",
       "      <td>3.1</td>\n",
       "      <td>1.5</td>\n",
       "      <td>0.2</td>\n",
       "      <td>0.0</td>\n",
       "    </tr>\n",
       "    <tr>\n",
       "      <th>4</th>\n",
       "      <td>5.0</td>\n",
       "      <td>3.6</td>\n",
       "      <td>1.4</td>\n",
       "      <td>0.2</td>\n",
       "      <td>0.0</td>\n",
       "    </tr>\n",
       "  </tbody>\n",
       "</table>\n",
       "</div>"
      ],
      "text/plain": [
       "   sepal length (cm)  sepal width (cm)  petal length (cm)  petal width (cm)  \\\n",
       "0                5.1               3.5                1.4               0.2   \n",
       "1                4.9               3.0                1.4               0.2   \n",
       "2                4.7               3.2                1.3               0.2   \n",
       "3                4.6               3.1                1.5               0.2   \n",
       "4                5.0               3.6                1.4               0.2   \n",
       "\n",
       "   target  \n",
       "0     0.0  \n",
       "1     0.0  \n",
       "2     0.0  \n",
       "3     0.0  \n",
       "4     0.0  "
      ]
     },
     "execution_count": 22,
     "metadata": {},
     "output_type": "execute_result"
    }
   ],
   "source": [
    "\n",
    "# TODO: insert your code for experiments\n",
    "###################################################\n",
    "##### YOUR CODE STARTS HERE #######################\n",
    "###################################################\n",
    "from sklearn.datasets import load_iris\n",
    "iris = load_iris()\n",
    "#print(iris)\n",
    "import pandas as pd\n",
    "#df = pd.DataFrame(iris)\n",
    "data1 = pd.DataFrame(data= np.c_[iris['data'], iris['target']], columns= iris['feature_names'] + ['target'])\n",
    "#data1 = pd.DataFrame(data=iris, index=None, columns=None)\n",
    "data1.head()\n",
    "\n",
    "\n",
    "\n",
    "###################################################\n",
    "##### YOUR CODE ENDS HERE #########################\n",
    "###################################################"
   ]
  },
  {
   "cell_type": "code",
   "execution_count": 23,
   "metadata": {
    "colab": {
     "base_uri": "https://localhost:8080/"
    },
    "id": "Bn9_X3MMca1y",
    "outputId": "d41f7bba-7b18-440f-e088-86ed69b8f7f8"
   },
   "outputs": [
    {
     "name": "stdout",
     "output_type": "stream",
     "text": [
      "<class 'pandas.core.frame.DataFrame'>\n",
      "RangeIndex: 150 entries, 0 to 149\n",
      "Data columns (total 5 columns):\n",
      " #   Column             Non-Null Count  Dtype  \n",
      "---  ------             --------------  -----  \n",
      " 0   sepal length (cm)  150 non-null    float64\n",
      " 1   sepal width (cm)   150 non-null    float64\n",
      " 2   petal length (cm)  150 non-null    float64\n",
      " 3   petal width (cm)   150 non-null    float64\n",
      " 4   target             150 non-null    float64\n",
      "dtypes: float64(5)\n",
      "memory usage: 6.0 KB\n"
     ]
    }
   ],
   "source": [
    "data1.info()\n"
   ]
  },
  {
   "cell_type": "code",
   "execution_count": 24,
   "metadata": {
    "colab": {
     "base_uri": "https://localhost:8080/",
     "height": 300
    },
    "id": "GEmENG6bca1y",
    "outputId": "3297705a-286b-4a72-e1b1-0b1bab66e48a"
   },
   "outputs": [
    {
     "data": {
      "text/html": [
       "<div>\n",
       "<style scoped>\n",
       "    .dataframe tbody tr th:only-of-type {\n",
       "        vertical-align: middle;\n",
       "    }\n",
       "\n",
       "    .dataframe tbody tr th {\n",
       "        vertical-align: top;\n",
       "    }\n",
       "\n",
       "    .dataframe thead th {\n",
       "        text-align: right;\n",
       "    }\n",
       "</style>\n",
       "<table border=\"1\" class=\"dataframe\">\n",
       "  <thead>\n",
       "    <tr style=\"text-align: right;\">\n",
       "      <th></th>\n",
       "      <th>sepal length (cm)</th>\n",
       "      <th>sepal width (cm)</th>\n",
       "      <th>petal length (cm)</th>\n",
       "      <th>petal width (cm)</th>\n",
       "      <th>target</th>\n",
       "    </tr>\n",
       "  </thead>\n",
       "  <tbody>\n",
       "    <tr>\n",
       "      <th>count</th>\n",
       "      <td>150.000000</td>\n",
       "      <td>150.000000</td>\n",
       "      <td>150.000000</td>\n",
       "      <td>150.000000</td>\n",
       "      <td>150.000000</td>\n",
       "    </tr>\n",
       "    <tr>\n",
       "      <th>mean</th>\n",
       "      <td>5.843333</td>\n",
       "      <td>3.057333</td>\n",
       "      <td>3.758000</td>\n",
       "      <td>1.199333</td>\n",
       "      <td>1.000000</td>\n",
       "    </tr>\n",
       "    <tr>\n",
       "      <th>std</th>\n",
       "      <td>0.828066</td>\n",
       "      <td>0.435866</td>\n",
       "      <td>1.765298</td>\n",
       "      <td>0.762238</td>\n",
       "      <td>0.819232</td>\n",
       "    </tr>\n",
       "    <tr>\n",
       "      <th>min</th>\n",
       "      <td>4.300000</td>\n",
       "      <td>2.000000</td>\n",
       "      <td>1.000000</td>\n",
       "      <td>0.100000</td>\n",
       "      <td>0.000000</td>\n",
       "    </tr>\n",
       "    <tr>\n",
       "      <th>25%</th>\n",
       "      <td>5.100000</td>\n",
       "      <td>2.800000</td>\n",
       "      <td>1.600000</td>\n",
       "      <td>0.300000</td>\n",
       "      <td>0.000000</td>\n",
       "    </tr>\n",
       "    <tr>\n",
       "      <th>50%</th>\n",
       "      <td>5.800000</td>\n",
       "      <td>3.000000</td>\n",
       "      <td>4.350000</td>\n",
       "      <td>1.300000</td>\n",
       "      <td>1.000000</td>\n",
       "    </tr>\n",
       "    <tr>\n",
       "      <th>75%</th>\n",
       "      <td>6.400000</td>\n",
       "      <td>3.300000</td>\n",
       "      <td>5.100000</td>\n",
       "      <td>1.800000</td>\n",
       "      <td>2.000000</td>\n",
       "    </tr>\n",
       "    <tr>\n",
       "      <th>max</th>\n",
       "      <td>7.900000</td>\n",
       "      <td>4.400000</td>\n",
       "      <td>6.900000</td>\n",
       "      <td>2.500000</td>\n",
       "      <td>2.000000</td>\n",
       "    </tr>\n",
       "  </tbody>\n",
       "</table>\n",
       "</div>"
      ],
      "text/plain": [
       "       sepal length (cm)  sepal width (cm)  petal length (cm)  \\\n",
       "count         150.000000        150.000000         150.000000   \n",
       "mean            5.843333          3.057333           3.758000   \n",
       "std             0.828066          0.435866           1.765298   \n",
       "min             4.300000          2.000000           1.000000   \n",
       "25%             5.100000          2.800000           1.600000   \n",
       "50%             5.800000          3.000000           4.350000   \n",
       "75%             6.400000          3.300000           5.100000   \n",
       "max             7.900000          4.400000           6.900000   \n",
       "\n",
       "       petal width (cm)      target  \n",
       "count        150.000000  150.000000  \n",
       "mean           1.199333    1.000000  \n",
       "std            0.762238    0.819232  \n",
       "min            0.100000    0.000000  \n",
       "25%            0.300000    0.000000  \n",
       "50%            1.300000    1.000000  \n",
       "75%            1.800000    2.000000  \n",
       "max            2.500000    2.000000  "
      ]
     },
     "execution_count": 24,
     "metadata": {},
     "output_type": "execute_result"
    }
   ],
   "source": [
    "data1.describe()\n"
   ]
  },
  {
   "cell_type": "code",
   "execution_count": 25,
   "metadata": {
    "id": "0Jo0hYdZca1z"
   },
   "outputs": [],
   "source": [
    "from sklearn.preprocessing import MinMaxScaler, StandardScaler\n",
    "import warnings\n",
    "warnings.filterwarnings('ignore')"
   ]
  },
  {
   "cell_type": "code",
   "execution_count": 26,
   "metadata": {
    "id": "zBNTeeOWdyfm"
   },
   "outputs": [],
   "source": [
    "X = data1.drop(columns=['target']).values\n",
    "\n",
    "y=data1.target.astype(int).values"
   ]
  },
  {
   "cell_type": "code",
   "execution_count": 27,
   "metadata": {
    "colab": {
     "base_uri": "https://localhost:8080/"
    },
    "id": "ErAkxYcXca12",
    "outputId": "26a869cd-9a2c-4d6d-9061-2d6cc3c3f2f3"
   },
   "outputs": [
    {
     "name": "stdout",
     "output_type": "stream",
     "text": [
      "Split: 0\n",
      "Split: 1\n",
      "Split: 2\n",
      "Split: 3\n",
      "Split: 4\n",
      "Split: 5\n",
      "Split: 6\n",
      "Split: 7\n",
      "Split: 8\n",
      "Split: 9\n"
     ]
    }
   ],
   "source": [
    "nbc_iris = NBC(feature_types=['r', 'r', 'r', 'r'])\n",
    "lr = LogisticRegression(random_state=0, verbose=0)\n",
    "tst_errs_nbc_std, tst_errs_lr_std = compareNBCvsLR(nbc_iris, lr, X, y, num_runs=800, num_splits=10, standardize_boolean=True)\n"
   ]
  },
  {
   "cell_type": "code",
   "execution_count": 28,
   "metadata": {
    "colab": {
     "base_uri": "https://localhost:8080/",
     "height": 322
    },
    "id": "EcaMbZO-ca12",
    "outputId": "37a25ea8-fd0e-4869-df4f-605f0d7d0074"
   },
   "outputs": [
    {
     "data": {
      "image/png": "[encoded data removed]",
      "text/plain": [
       "<Figure size 720x720 with 1 Axes>"
      ]
     },
     "metadata": {
      "needs_background": "light"
     },
     "output_type": "display_data"
    }
   ],
   "source": [
    "makePlot(tst_errs_nbc_std, tst_errs_lr_std, title='Dataset_1_iris standardized', num_splits=10)"
   ]
  },
  {
   "cell_type": "code",
   "execution_count": 29,
   "metadata": {
    "colab": {
     "base_uri": "https://localhost:8080/"
    },
    "id": "Wakraonmca13",
    "outputId": "d503c985-8564-4935-d7d9-d4aaeaebb651"
   },
   "outputs": [
    {
     "name": "stdout",
     "output_type": "stream",
     "text": [
      "Split: 0\n",
      "Split: 1\n",
      "Split: 2\n",
      "Split: 3\n",
      "Split: 4\n",
      "Split: 5\n",
      "Split: 6\n",
      "Split: 7\n",
      "Split: 8\n",
      "Split: 9\n"
     ]
    }
   ],
   "source": [
    "X = data1.drop(columns=['target']).values\n",
    "y=data1.target.astype(int).values\n",
    "nbc_iris = NBC(feature_types=['r', 'r', 'r', 'r'])\n",
    "lr = LogisticRegression(random_state=0, verbose=0)\n",
    "tst_errs_nbc, tst_errs_lr = compareNBCvsLR(nbc_iris, lr, X, y, num_runs=800, num_splits=10, standardize_boolean=False)"
   ]
  },
  {
   "cell_type": "code",
   "execution_count": 30,
   "metadata": {
    "id": "b2g8_YcN1qlJ",
    "outputId": "c4596e67-55e9-462c-da89-9c6c8eb30ef1"
   },
   "outputs": [
    {
     "data": {
      "image/png": "[encoded data removed]",
      "text/plain": [
       "<Figure size 720x720 with 1 Axes>"
      ]
     },
     "metadata": {
      "needs_background": "light"
     },
     "output_type": "display_data"
    }
   ],
   "source": [
    "makePlot(tst_errs_nbc, tst_errs_lr, title='Dataset_1_iris non-standardized', num_splits=10)"
   ]
  },
  {
   "cell_type": "markdown",
   "metadata": {
    "id": "g7SJZmvb1qlM"
   },
   "source": [
    "## Report for dataset 1"
   ]
  },
  {
   "cell_type": "markdown",
   "metadata": {
    "id": "wv_kY7_R1qlO"
   },
   "source": [
    "For the first dataset I just standardized the data. I decided to standardize in order to see wether or not it has an impact on these two classifiers."
   ]
  },
  {
   "cell_type": "markdown",
   "metadata": {
    "id": "VdW1cjCz1qlO"
   },
   "source": [
    "When the dataset is standardized, the Naive Bayes classifier performs a bit better at the beginning. But overall both classifiers have similar results\n",
    "When the dataset is not standardized, except at the really beginning where the Naive Bayes is better, both classifiers have really smilar results.\n",
    "In both cases, the more data we use, the smaller the classification error for these two classifiers is."
   ]
  },
  {
   "cell_type": "markdown",
   "metadata": {
    "id": "fmGq3tze1qlP"
   },
   "source": [
    "Because of the standardization I had to make some change in the CompareNBCvsLR. For the small datasets, I had noticed that the shuffler is sometimes not selecting samples for the three classes but only two. As a consequence the classifier is not able to do the predict phase for the class samples that belong to the class that is not included in the training phase. So the modification aims to make sure that the classifier sees the three classes at the training phase."
   ]
  },
  {
   "cell_type": "markdown",
   "metadata": {
    "id": "RrdaKwk5ca13"
   },
   "source": [
    "**Dataset 2: Voting Dataset**\n",
    "\n",
    "https://archive.ics.uci.edu/ml/datasets/congressional+voting+records\n",
    "\n",
    "The logistic regression line meets the naive bayes line early in the plot. To see it clearer, you should use only 100 data points from the dataset for this experiment."
   ]
  },
  {
   "cell_type": "code",
   "execution_count": 31,
   "metadata": {
    "colab": {
     "base_uri": "https://localhost:8080/",
     "height": 681
    },
    "id": "nwhLZEPwca13",
    "outputId": "a5357292-b6f3-44b9-aa7e-17becfaa03c4"
   },
   "outputs": [
    {
     "name": "stdout",
     "output_type": "stream",
     "text": [
      "<class 'pandas.core.frame.DataFrame'>\n",
      "RangeIndex: 435 entries, 0 to 434\n",
      "Data columns (total 17 columns):\n",
      " #   Column                                  Non-Null Count  Dtype \n",
      "---  ------                                  --------------  ----- \n",
      " 0   label                                   435 non-null    object\n",
      " 1   handicapped-infants                     423 non-null    object\n",
      " 2   water-project-cost-sharing              387 non-null    object\n",
      " 3   adoption-of-the-budget-resolution       424 non-null    object\n",
      " 4   physician-fee-freeze                    424 non-null    object\n",
      " 5   el-salvador-aid                         420 non-null    object\n",
      " 6   religious-groups-in-schools             424 non-null    object\n",
      " 7   anti-satellite-test-ban                 421 non-null    object\n",
      " 8   aid-to-nicaraguan-contras               420 non-null    object\n",
      " 9   mx-missile                              413 non-null    object\n",
      " 10  immigration                             428 non-null    object\n",
      " 11  synfuels-corporation-cutback            414 non-null    object\n",
      " 12  education-spending                      404 non-null    object\n",
      " 13  superfund-right-to-sue                  410 non-null    object\n",
      " 14  crime                                   418 non-null    object\n",
      " 15  duty-free-exports                       407 non-null    object\n",
      " 16  export-administration-act-south-africa  331 non-null    object\n",
      "dtypes: object(17)\n",
      "memory usage: 57.9+ KB\n"
     ]
    },
    {
     "data": {
      "text/html": [
       "<div>\n",
       "<style scoped>\n",
       "    .dataframe tbody tr th:only-of-type {\n",
       "        vertical-align: middle;\n",
       "    }\n",
       "\n",
       "    .dataframe tbody tr th {\n",
       "        vertical-align: top;\n",
       "    }\n",
       "\n",
       "    .dataframe thead th {\n",
       "        text-align: right;\n",
       "    }\n",
       "</style>\n",
       "<table border=\"1\" class=\"dataframe\">\n",
       "  <thead>\n",
       "    <tr style=\"text-align: right;\">\n",
       "      <th></th>\n",
       "      <th>label</th>\n",
       "      <th>handicapped-infants</th>\n",
       "      <th>water-project-cost-sharing</th>\n",
       "      <th>adoption-of-the-budget-resolution</th>\n",
       "      <th>physician-fee-freeze</th>\n",
       "      <th>el-salvador-aid</th>\n",
       "      <th>religious-groups-in-schools</th>\n",
       "      <th>anti-satellite-test-ban</th>\n",
       "      <th>aid-to-nicaraguan-contras</th>\n",
       "      <th>mx-missile</th>\n",
       "      <th>immigration</th>\n",
       "      <th>synfuels-corporation-cutback</th>\n",
       "      <th>education-spending</th>\n",
       "      <th>superfund-right-to-sue</th>\n",
       "      <th>crime</th>\n",
       "      <th>duty-free-exports</th>\n",
       "      <th>export-administration-act-south-africa</th>\n",
       "    </tr>\n",
       "  </thead>\n",
       "  <tbody>\n",
       "    <tr>\n",
       "      <th>count</th>\n",
       "      <td>435</td>\n",
       "      <td>423</td>\n",
       "      <td>387</td>\n",
       "      <td>424</td>\n",
       "      <td>424</td>\n",
       "      <td>420</td>\n",
       "      <td>424</td>\n",
       "      <td>421</td>\n",
       "      <td>420</td>\n",
       "      <td>413</td>\n",
       "      <td>428</td>\n",
       "      <td>414</td>\n",
       "      <td>404</td>\n",
       "      <td>410</td>\n",
       "      <td>418</td>\n",
       "      <td>407</td>\n",
       "      <td>331</td>\n",
       "    </tr>\n",
       "    <tr>\n",
       "      <th>unique</th>\n",
       "      <td>2</td>\n",
       "      <td>2</td>\n",
       "      <td>2</td>\n",
       "      <td>2</td>\n",
       "      <td>2</td>\n",
       "      <td>2</td>\n",
       "      <td>2</td>\n",
       "      <td>2</td>\n",
       "      <td>2</td>\n",
       "      <td>2</td>\n",
       "      <td>2</td>\n",
       "      <td>2</td>\n",
       "      <td>2</td>\n",
       "      <td>2</td>\n",
       "      <td>2</td>\n",
       "      <td>2</td>\n",
       "      <td>2</td>\n",
       "    </tr>\n",
       "    <tr>\n",
       "      <th>top</th>\n",
       "      <td>democrat</td>\n",
       "      <td>n</td>\n",
       "      <td>y</td>\n",
       "      <td>y</td>\n",
       "      <td>n</td>\n",
       "      <td>y</td>\n",
       "      <td>y</td>\n",
       "      <td>y</td>\n",
       "      <td>y</td>\n",
       "      <td>y</td>\n",
       "      <td>y</td>\n",
       "      <td>n</td>\n",
       "      <td>n</td>\n",
       "      <td>y</td>\n",
       "      <td>y</td>\n",
       "      <td>n</td>\n",
       "      <td>y</td>\n",
       "    </tr>\n",
       "    <tr>\n",
       "      <th>freq</th>\n",
       "      <td>267</td>\n",
       "      <td>236</td>\n",
       "      <td>195</td>\n",
       "      <td>253</td>\n",
       "      <td>247</td>\n",
       "      <td>212</td>\n",
       "      <td>272</td>\n",
       "      <td>239</td>\n",
       "      <td>242</td>\n",
       "      <td>207</td>\n",
       "      <td>216</td>\n",
       "      <td>264</td>\n",
       "      <td>233</td>\n",
       "      <td>209</td>\n",
       "      <td>248</td>\n",
       "      <td>233</td>\n",
       "      <td>269</td>\n",
       "    </tr>\n",
       "  </tbody>\n",
       "</table>\n",
       "</div>"
      ],
      "text/plain": [
       "           label handicapped-infants water-project-cost-sharing  \\\n",
       "count        435                 423                        387   \n",
       "unique         2                   2                          2   \n",
       "top     democrat                   n                          y   \n",
       "freq         267                 236                        195   \n",
       "\n",
       "       adoption-of-the-budget-resolution physician-fee-freeze el-salvador-aid  \\\n",
       "count                                424                  424             420   \n",
       "unique                                 2                    2               2   \n",
       "top                                    y                    n               y   \n",
       "freq                                 253                  247             212   \n",
       "\n",
       "       religious-groups-in-schools anti-satellite-test-ban  \\\n",
       "count                          424                     421   \n",
       "unique                           2                       2   \n",
       "top                              y                       y   \n",
       "freq                           272                     239   \n",
       "\n",
       "       aid-to-nicaraguan-contras mx-missile immigration  \\\n",
       "count                        420        413         428   \n",
       "unique                         2          2           2   \n",
       "top                            y          y           y   \n",
       "freq                         242        207         216   \n",
       "\n",
       "       synfuels-corporation-cutback education-spending superfund-right-to-sue  \\\n",
       "count                           414                404                    410   \n",
       "unique                            2                  2                      2   \n",
       "top                               n                  n                      y   \n",
       "freq                            264                233                    209   \n",
       "\n",
       "       crime duty-free-exports export-administration-act-south-africa  \n",
       "count    418               407                                    331  \n",
       "unique     2                 2                                      2  \n",
       "top        y                 n                                      y  \n",
       "freq     248               233                                    269  "
      ]
     },
     "execution_count": 31,
     "metadata": {},
     "output_type": "execute_result"
    }
   ],
   "source": [
    "# load the dataset\n",
    "# TODO: insert your code for experiments\n",
    "###################################################\n",
    "##### YOUR CODE STARTS HERE #######################\n",
    "###################################################\n",
    "#voting = pd.read_csv('./datasets/voting.csv')\n",
    "voting = pd.read_csv('./voting.csv')\n",
    "\n",
    "\n",
    "voting.info()\n",
    "voting.head()\n",
    "voting.describe()\n",
    "\n",
    "\n",
    "\n",
    "###################################################\n",
    "##### YOUR CODE ENDS HERE #########################\n",
    "###################################################"
   ]
  },
  {
   "cell_type": "code",
   "execution_count": 32,
   "metadata": {
    "id": "KrXQY_HAca1_"
   },
   "outputs": [],
   "source": [
    "from sklearn import preprocessing\n"
   ]
  },
  {
   "cell_type": "code",
   "execution_count": 33,
   "metadata": {
    "id": "8U5cxGeZca2A"
   },
   "outputs": [],
   "source": [
    "voting = voting.drop(\"export-administration-act-south-africa\", axis=1)"
   ]
  },
  {
   "cell_type": "code",
   "execution_count": 34,
   "metadata": {
    "id": "zADXTklyca2A"
   },
   "outputs": [],
   "source": [
    "voting = voting.drop(\"water-project-cost-sharing\", axis=1)"
   ]
  },
  {
   "cell_type": "code",
   "execution_count": 35,
   "metadata": {
    "colab": {
     "base_uri": "https://localhost:8080/"
    },
    "id": "26SmBuSaca2B",
    "outputId": "de3dd849-68fb-47e7-c07f-e6ce9df5bd0b"
   },
   "outputs": [
    {
     "data": {
      "text/plain": [
       "Index(['label', 'handicapped-infants', 'adoption-of-the-budget-resolution',\n",
       "       'physician-fee-freeze', 'el-salvador-aid',\n",
       "       'religious-groups-in-schools', 'anti-satellite-test-ban',\n",
       "       'aid-to-nicaraguan-contras', 'mx-missile', 'immigration',\n",
       "       'synfuels-corporation-cutback', 'education-spending',\n",
       "       'superfund-right-to-sue', 'crime', 'duty-free-exports'],\n",
       "      dtype='object')"
      ]
     },
     "execution_count": 35,
     "metadata": {},
     "output_type": "execute_result"
    }
   ],
   "source": [
    "voting.columns"
   ]
  },
  {
   "cell_type": "code",
   "execution_count": 36,
   "metadata": {
    "colab": {
     "base_uri": "https://localhost:8080/"
    },
    "id": "21JfwIRSca2B",
    "outputId": "19c599f9-887e-49cf-d689-e3cd49f55879"
   },
   "outputs": [
    {
     "data": {
      "text/plain": [
       "['label',\n",
       " 'handicapped-infants',\n",
       " 'adoption-of-the-budget-resolution',\n",
       " 'physician-fee-freeze',\n",
       " 'el-salvador-aid',\n",
       " 'religious-groups-in-schools',\n",
       " 'anti-satellite-test-ban',\n",
       " 'aid-to-nicaraguan-contras',\n",
       " 'mx-missile',\n",
       " 'immigration',\n",
       " 'synfuels-corporation-cutback',\n",
       " 'education-spending',\n",
       " 'superfund-right-to-sue',\n",
       " 'crime',\n",
       " 'duty-free-exports']"
      ]
     },
     "execution_count": 36,
     "metadata": {},
     "output_type": "execute_result"
    }
   ],
   "source": [
    "voting.columns.tolist()"
   ]
  },
  {
   "cell_type": "code",
   "execution_count": 37,
   "metadata": {},
   "outputs": [],
   "source": [
    "for column in voting.columns.tolist():\n",
    "    voting[column]=voting[column].fillna(voting[column].mode().iloc[0])"
   ]
  },
  {
   "cell_type": "code",
   "execution_count": 38,
   "metadata": {
    "id": "GfiUXm8Uca2B"
   },
   "outputs": [],
   "source": [
    "for column in voting.columns.tolist():\n",
    "    le = preprocessing.LabelEncoder()\n",
    "    le.fit(voting[column])\n",
    "    voting[column]=le.transform(voting[column])\n",
    "    \n",
    "    "
   ]
  },
  {
   "cell_type": "code",
   "execution_count": 39,
   "metadata": {
    "colab": {
     "base_uri": "https://localhost:8080/",
     "height": 495
    },
    "id": "hF0kw_sIca2C",
    "outputId": "d0db274d-1e1b-41f4-c7e0-9ae0af3da55d"
   },
   "outputs": [
    {
     "data": {
      "text/html": [
       "<div>\n",
       "<style scoped>\n",
       "    .dataframe tbody tr th:only-of-type {\n",
       "        vertical-align: middle;\n",
       "    }\n",
       "\n",
       "    .dataframe tbody tr th {\n",
       "        vertical-align: top;\n",
       "    }\n",
       "\n",
       "    .dataframe thead th {\n",
       "        text-align: right;\n",
       "    }\n",
       "</style>\n",
       "<table border=\"1\" class=\"dataframe\">\n",
       "  <thead>\n",
       "    <tr style=\"text-align: right;\">\n",
       "      <th></th>\n",
       "      <th>label</th>\n",
       "      <th>handicapped-infants</th>\n",
       "      <th>adoption-of-the-budget-resolution</th>\n",
       "      <th>physician-fee-freeze</th>\n",
       "      <th>el-salvador-aid</th>\n",
       "      <th>religious-groups-in-schools</th>\n",
       "      <th>anti-satellite-test-ban</th>\n",
       "      <th>aid-to-nicaraguan-contras</th>\n",
       "      <th>mx-missile</th>\n",
       "      <th>immigration</th>\n",
       "      <th>synfuels-corporation-cutback</th>\n",
       "      <th>education-spending</th>\n",
       "      <th>superfund-right-to-sue</th>\n",
       "      <th>crime</th>\n",
       "      <th>duty-free-exports</th>\n",
       "    </tr>\n",
       "  </thead>\n",
       "  <tbody>\n",
       "    <tr>\n",
       "      <th>0</th>\n",
       "      <td>1</td>\n",
       "      <td>0</td>\n",
       "      <td>0</td>\n",
       "      <td>1</td>\n",
       "      <td>1</td>\n",
       "      <td>1</td>\n",
       "      <td>0</td>\n",
       "      <td>0</td>\n",
       "      <td>0</td>\n",
       "      <td>1</td>\n",
       "      <td>0</td>\n",
       "      <td>1</td>\n",
       "      <td>1</td>\n",
       "      <td>1</td>\n",
       "      <td>0</td>\n",
       "    </tr>\n",
       "    <tr>\n",
       "      <th>1</th>\n",
       "      <td>1</td>\n",
       "      <td>0</td>\n",
       "      <td>0</td>\n",
       "      <td>1</td>\n",
       "      <td>1</td>\n",
       "      <td>1</td>\n",
       "      <td>0</td>\n",
       "      <td>0</td>\n",
       "      <td>0</td>\n",
       "      <td>0</td>\n",
       "      <td>0</td>\n",
       "      <td>1</td>\n",
       "      <td>1</td>\n",
       "      <td>1</td>\n",
       "      <td>0</td>\n",
       "    </tr>\n",
       "    <tr>\n",
       "      <th>2</th>\n",
       "      <td>0</td>\n",
       "      <td>0</td>\n",
       "      <td>1</td>\n",
       "      <td>0</td>\n",
       "      <td>1</td>\n",
       "      <td>1</td>\n",
       "      <td>0</td>\n",
       "      <td>0</td>\n",
       "      <td>0</td>\n",
       "      <td>0</td>\n",
       "      <td>1</td>\n",
       "      <td>0</td>\n",
       "      <td>1</td>\n",
       "      <td>1</td>\n",
       "      <td>0</td>\n",
       "    </tr>\n",
       "    <tr>\n",
       "      <th>3</th>\n",
       "      <td>0</td>\n",
       "      <td>0</td>\n",
       "      <td>1</td>\n",
       "      <td>0</td>\n",
       "      <td>1</td>\n",
       "      <td>1</td>\n",
       "      <td>0</td>\n",
       "      <td>0</td>\n",
       "      <td>0</td>\n",
       "      <td>0</td>\n",
       "      <td>1</td>\n",
       "      <td>0</td>\n",
       "      <td>1</td>\n",
       "      <td>0</td>\n",
       "      <td>0</td>\n",
       "    </tr>\n",
       "    <tr>\n",
       "      <th>4</th>\n",
       "      <td>0</td>\n",
       "      <td>1</td>\n",
       "      <td>1</td>\n",
       "      <td>0</td>\n",
       "      <td>1</td>\n",
       "      <td>1</td>\n",
       "      <td>0</td>\n",
       "      <td>0</td>\n",
       "      <td>0</td>\n",
       "      <td>0</td>\n",
       "      <td>1</td>\n",
       "      <td>0</td>\n",
       "      <td>1</td>\n",
       "      <td>1</td>\n",
       "      <td>1</td>\n",
       "    </tr>\n",
       "    <tr>\n",
       "      <th>...</th>\n",
       "      <td>...</td>\n",
       "      <td>...</td>\n",
       "      <td>...</td>\n",
       "      <td>...</td>\n",
       "      <td>...</td>\n",
       "      <td>...</td>\n",
       "      <td>...</td>\n",
       "      <td>...</td>\n",
       "      <td>...</td>\n",
       "      <td>...</td>\n",
       "      <td>...</td>\n",
       "      <td>...</td>\n",
       "      <td>...</td>\n",
       "      <td>...</td>\n",
       "      <td>...</td>\n",
       "    </tr>\n",
       "    <tr>\n",
       "      <th>430</th>\n",
       "      <td>1</td>\n",
       "      <td>0</td>\n",
       "      <td>1</td>\n",
       "      <td>1</td>\n",
       "      <td>1</td>\n",
       "      <td>1</td>\n",
       "      <td>0</td>\n",
       "      <td>0</td>\n",
       "      <td>1</td>\n",
       "      <td>1</td>\n",
       "      <td>0</td>\n",
       "      <td>1</td>\n",
       "      <td>1</td>\n",
       "      <td>1</td>\n",
       "      <td>0</td>\n",
       "    </tr>\n",
       "    <tr>\n",
       "      <th>431</th>\n",
       "      <td>0</td>\n",
       "      <td>0</td>\n",
       "      <td>1</td>\n",
       "      <td>0</td>\n",
       "      <td>0</td>\n",
       "      <td>0</td>\n",
       "      <td>1</td>\n",
       "      <td>1</td>\n",
       "      <td>1</td>\n",
       "      <td>1</td>\n",
       "      <td>0</td>\n",
       "      <td>0</td>\n",
       "      <td>0</td>\n",
       "      <td>0</td>\n",
       "      <td>0</td>\n",
       "    </tr>\n",
       "    <tr>\n",
       "      <th>432</th>\n",
       "      <td>1</td>\n",
       "      <td>0</td>\n",
       "      <td>0</td>\n",
       "      <td>1</td>\n",
       "      <td>1</td>\n",
       "      <td>1</td>\n",
       "      <td>0</td>\n",
       "      <td>0</td>\n",
       "      <td>0</td>\n",
       "      <td>0</td>\n",
       "      <td>1</td>\n",
       "      <td>1</td>\n",
       "      <td>1</td>\n",
       "      <td>1</td>\n",
       "      <td>0</td>\n",
       "    </tr>\n",
       "    <tr>\n",
       "      <th>433</th>\n",
       "      <td>1</td>\n",
       "      <td>0</td>\n",
       "      <td>0</td>\n",
       "      <td>1</td>\n",
       "      <td>1</td>\n",
       "      <td>1</td>\n",
       "      <td>1</td>\n",
       "      <td>1</td>\n",
       "      <td>1</td>\n",
       "      <td>1</td>\n",
       "      <td>0</td>\n",
       "      <td>1</td>\n",
       "      <td>1</td>\n",
       "      <td>1</td>\n",
       "      <td>0</td>\n",
       "    </tr>\n",
       "    <tr>\n",
       "      <th>434</th>\n",
       "      <td>1</td>\n",
       "      <td>0</td>\n",
       "      <td>0</td>\n",
       "      <td>1</td>\n",
       "      <td>1</td>\n",
       "      <td>1</td>\n",
       "      <td>0</td>\n",
       "      <td>0</td>\n",
       "      <td>0</td>\n",
       "      <td>1</td>\n",
       "      <td>0</td>\n",
       "      <td>1</td>\n",
       "      <td>1</td>\n",
       "      <td>1</td>\n",
       "      <td>0</td>\n",
       "    </tr>\n",
       "  </tbody>\n",
       "</table>\n",
       "<p>435 rows × 15 columns</p>\n",
       "</div>"
      ],
      "text/plain": [
       "     label  handicapped-infants  adoption-of-the-budget-resolution  \\\n",
       "0        1                    0                                  0   \n",
       "1        1                    0                                  0   \n",
       "2        0                    0                                  1   \n",
       "3        0                    0                                  1   \n",
       "4        0                    1                                  1   \n",
       "..     ...                  ...                                ...   \n",
       "430      1                    0                                  1   \n",
       "431      0                    0                                  1   \n",
       "432      1                    0                                  0   \n",
       "433      1                    0                                  0   \n",
       "434      1                    0                                  0   \n",
       "\n",
       "     physician-fee-freeze  el-salvador-aid  religious-groups-in-schools  \\\n",
       "0                       1                1                            1   \n",
       "1                       1                1                            1   \n",
       "2                       0                1                            1   \n",
       "3                       0                1                            1   \n",
       "4                       0                1                            1   \n",
       "..                    ...              ...                          ...   \n",
       "430                     1                1                            1   \n",
       "431                     0                0                            0   \n",
       "432                     1                1                            1   \n",
       "433                     1                1                            1   \n",
       "434                     1                1                            1   \n",
       "\n",
       "     anti-satellite-test-ban  aid-to-nicaraguan-contras  mx-missile  \\\n",
       "0                          0                          0           0   \n",
       "1                          0                          0           0   \n",
       "2                          0                          0           0   \n",
       "3                          0                          0           0   \n",
       "4                          0                          0           0   \n",
       "..                       ...                        ...         ...   \n",
       "430                        0                          0           1   \n",
       "431                        1                          1           1   \n",
       "432                        0                          0           0   \n",
       "433                        1                          1           1   \n",
       "434                        0                          0           0   \n",
       "\n",
       "     immigration  synfuels-corporation-cutback  education-spending  \\\n",
       "0              1                             0                   1   \n",
       "1              0                             0                   1   \n",
       "2              0                             1                   0   \n",
       "3              0                             1                   0   \n",
       "4              0                             1                   0   \n",
       "..           ...                           ...                 ...   \n",
       "430            1                             0                   1   \n",
       "431            1                             0                   0   \n",
       "432            0                             1                   1   \n",
       "433            1                             0                   1   \n",
       "434            1                             0                   1   \n",
       "\n",
       "     superfund-right-to-sue  crime  duty-free-exports  \n",
       "0                         1      1                  0  \n",
       "1                         1      1                  0  \n",
       "2                         1      1                  0  \n",
       "3                         1      0                  0  \n",
       "4                         1      1                  1  \n",
       "..                      ...    ...                ...  \n",
       "430                       1      1                  0  \n",
       "431                       0      0                  0  \n",
       "432                       1      1                  0  \n",
       "433                       1      1                  0  \n",
       "434                       1      1                  0  \n",
       "\n",
       "[435 rows x 15 columns]"
      ]
     },
     "execution_count": 39,
     "metadata": {},
     "output_type": "execute_result"
    }
   ],
   "source": [
    "voting\n"
   ]
  },
  {
   "cell_type": "code",
   "execution_count": 40,
   "metadata": {
    "colab": {
     "base_uri": "https://localhost:8080/",
     "height": 372
    },
    "id": "krSq6Z1pca2C",
    "outputId": "1f319eb8-be43-4a16-b7a4-7383e11c2b13"
   },
   "outputs": [
    {
     "data": {
      "text/html": [
       "<div>\n",
       "<style scoped>\n",
       "    .dataframe tbody tr th:only-of-type {\n",
       "        vertical-align: middle;\n",
       "    }\n",
       "\n",
       "    .dataframe tbody tr th {\n",
       "        vertical-align: top;\n",
       "    }\n",
       "\n",
       "    .dataframe thead th {\n",
       "        text-align: right;\n",
       "    }\n",
       "</style>\n",
       "<table border=\"1\" class=\"dataframe\">\n",
       "  <thead>\n",
       "    <tr style=\"text-align: right;\">\n",
       "      <th></th>\n",
       "      <th>label</th>\n",
       "      <th>handicapped-infants</th>\n",
       "      <th>adoption-of-the-budget-resolution</th>\n",
       "      <th>physician-fee-freeze</th>\n",
       "      <th>el-salvador-aid</th>\n",
       "      <th>religious-groups-in-schools</th>\n",
       "      <th>anti-satellite-test-ban</th>\n",
       "      <th>aid-to-nicaraguan-contras</th>\n",
       "      <th>mx-missile</th>\n",
       "      <th>immigration</th>\n",
       "      <th>synfuels-corporation-cutback</th>\n",
       "      <th>education-spending</th>\n",
       "      <th>superfund-right-to-sue</th>\n",
       "      <th>crime</th>\n",
       "      <th>duty-free-exports</th>\n",
       "    </tr>\n",
       "  </thead>\n",
       "  <tbody>\n",
       "    <tr>\n",
       "      <th>count</th>\n",
       "      <td>435.000000</td>\n",
       "      <td>435.000000</td>\n",
       "      <td>435.000000</td>\n",
       "      <td>435.000000</td>\n",
       "      <td>435.000000</td>\n",
       "      <td>435.000000</td>\n",
       "      <td>435.000000</td>\n",
       "      <td>435.000000</td>\n",
       "      <td>435.000000</td>\n",
       "      <td>435.000000</td>\n",
       "      <td>435.000000</td>\n",
       "      <td>435.000000</td>\n",
       "      <td>435.000000</td>\n",
       "      <td>435.000000</td>\n",
       "      <td>435.000000</td>\n",
       "    </tr>\n",
       "    <tr>\n",
       "      <th>mean</th>\n",
       "      <td>0.386207</td>\n",
       "      <td>0.429885</td>\n",
       "      <td>0.606897</td>\n",
       "      <td>0.406897</td>\n",
       "      <td>0.521839</td>\n",
       "      <td>0.650575</td>\n",
       "      <td>0.581609</td>\n",
       "      <td>0.590805</td>\n",
       "      <td>0.526437</td>\n",
       "      <td>0.512644</td>\n",
       "      <td>0.344828</td>\n",
       "      <td>0.393103</td>\n",
       "      <td>0.537931</td>\n",
       "      <td>0.609195</td>\n",
       "      <td>0.400000</td>\n",
       "    </tr>\n",
       "    <tr>\n",
       "      <th>std</th>\n",
       "      <td>0.487440</td>\n",
       "      <td>0.495630</td>\n",
       "      <td>0.489002</td>\n",
       "      <td>0.491821</td>\n",
       "      <td>0.500098</td>\n",
       "      <td>0.477337</td>\n",
       "      <td>0.493863</td>\n",
       "      <td>0.492252</td>\n",
       "      <td>0.499876</td>\n",
       "      <td>0.500416</td>\n",
       "      <td>0.475859</td>\n",
       "      <td>0.489002</td>\n",
       "      <td>0.499133</td>\n",
       "      <td>0.488493</td>\n",
       "      <td>0.490462</td>\n",
       "    </tr>\n",
       "    <tr>\n",
       "      <th>min</th>\n",
       "      <td>0.000000</td>\n",
       "      <td>0.000000</td>\n",
       "      <td>0.000000</td>\n",
       "      <td>0.000000</td>\n",
       "      <td>0.000000</td>\n",
       "      <td>0.000000</td>\n",
       "      <td>0.000000</td>\n",
       "      <td>0.000000</td>\n",
       "      <td>0.000000</td>\n",
       "      <td>0.000000</td>\n",
       "      <td>0.000000</td>\n",
       "      <td>0.000000</td>\n",
       "      <td>0.000000</td>\n",
       "      <td>0.000000</td>\n",
       "      <td>0.000000</td>\n",
       "    </tr>\n",
       "    <tr>\n",
       "      <th>25%</th>\n",
       "      <td>0.000000</td>\n",
       "      <td>0.000000</td>\n",
       "      <td>0.000000</td>\n",
       "      <td>0.000000</td>\n",
       "      <td>0.000000</td>\n",
       "      <td>0.000000</td>\n",
       "      <td>0.000000</td>\n",
       "      <td>0.000000</td>\n",
       "      <td>0.000000</td>\n",
       "      <td>0.000000</td>\n",
       "      <td>0.000000</td>\n",
       "      <td>0.000000</td>\n",
       "      <td>0.000000</td>\n",
       "      <td>0.000000</td>\n",
       "      <td>0.000000</td>\n",
       "    </tr>\n",
       "    <tr>\n",
       "      <th>50%</th>\n",
       "      <td>0.000000</td>\n",
       "      <td>0.000000</td>\n",
       "      <td>1.000000</td>\n",
       "      <td>0.000000</td>\n",
       "      <td>1.000000</td>\n",
       "      <td>1.000000</td>\n",
       "      <td>1.000000</td>\n",
       "      <td>1.000000</td>\n",
       "      <td>1.000000</td>\n",
       "      <td>1.000000</td>\n",
       "      <td>0.000000</td>\n",
       "      <td>0.000000</td>\n",
       "      <td>1.000000</td>\n",
       "      <td>1.000000</td>\n",
       "      <td>0.000000</td>\n",
       "    </tr>\n",
       "    <tr>\n",
       "      <th>75%</th>\n",
       "      <td>1.000000</td>\n",
       "      <td>1.000000</td>\n",
       "      <td>1.000000</td>\n",
       "      <td>1.000000</td>\n",
       "      <td>1.000000</td>\n",
       "      <td>1.000000</td>\n",
       "      <td>1.000000</td>\n",
       "      <td>1.000000</td>\n",
       "      <td>1.000000</td>\n",
       "      <td>1.000000</td>\n",
       "      <td>1.000000</td>\n",
       "      <td>1.000000</td>\n",
       "      <td>1.000000</td>\n",
       "      <td>1.000000</td>\n",
       "      <td>1.000000</td>\n",
       "    </tr>\n",
       "    <tr>\n",
       "      <th>max</th>\n",
       "      <td>1.000000</td>\n",
       "      <td>1.000000</td>\n",
       "      <td>1.000000</td>\n",
       "      <td>1.000000</td>\n",
       "      <td>1.000000</td>\n",
       "      <td>1.000000</td>\n",
       "      <td>1.000000</td>\n",
       "      <td>1.000000</td>\n",
       "      <td>1.000000</td>\n",
       "      <td>1.000000</td>\n",
       "      <td>1.000000</td>\n",
       "      <td>1.000000</td>\n",
       "      <td>1.000000</td>\n",
       "      <td>1.000000</td>\n",
       "      <td>1.000000</td>\n",
       "    </tr>\n",
       "  </tbody>\n",
       "</table>\n",
       "</div>"
      ],
      "text/plain": [
       "            label  handicapped-infants  adoption-of-the-budget-resolution  \\\n",
       "count  435.000000           435.000000                         435.000000   \n",
       "mean     0.386207             0.429885                           0.606897   \n",
       "std      0.487440             0.495630                           0.489002   \n",
       "min      0.000000             0.000000                           0.000000   \n",
       "25%      0.000000             0.000000                           0.000000   \n",
       "50%      0.000000             0.000000                           1.000000   \n",
       "75%      1.000000             1.000000                           1.000000   \n",
       "max      1.000000             1.000000                           1.000000   \n",
       "\n",
       "       physician-fee-freeze  el-salvador-aid  religious-groups-in-schools  \\\n",
       "count            435.000000       435.000000                   435.000000   \n",
       "mean               0.406897         0.521839                     0.650575   \n",
       "std                0.491821         0.500098                     0.477337   \n",
       "min                0.000000         0.000000                     0.000000   \n",
       "25%                0.000000         0.000000                     0.000000   \n",
       "50%                0.000000         1.000000                     1.000000   \n",
       "75%                1.000000         1.000000                     1.000000   \n",
       "max                1.000000         1.000000                     1.000000   \n",
       "\n",
       "       anti-satellite-test-ban  aid-to-nicaraguan-contras  mx-missile  \\\n",
       "count               435.000000                 435.000000  435.000000   \n",
       "mean                  0.581609                   0.590805    0.526437   \n",
       "std                   0.493863                   0.492252    0.499876   \n",
       "min                   0.000000                   0.000000    0.000000   \n",
       "25%                   0.000000                   0.000000    0.000000   \n",
       "50%                   1.000000                   1.000000    1.000000   \n",
       "75%                   1.000000                   1.000000    1.000000   \n",
       "max                   1.000000                   1.000000    1.000000   \n",
       "\n",
       "       immigration  synfuels-corporation-cutback  education-spending  \\\n",
       "count   435.000000                    435.000000          435.000000   \n",
       "mean      0.512644                      0.344828            0.393103   \n",
       "std       0.500416                      0.475859            0.489002   \n",
       "min       0.000000                      0.000000            0.000000   \n",
       "25%       0.000000                      0.000000            0.000000   \n",
       "50%       1.000000                      0.000000            0.000000   \n",
       "75%       1.000000                      1.000000            1.000000   \n",
       "max       1.000000                      1.000000            1.000000   \n",
       "\n",
       "       superfund-right-to-sue       crime  duty-free-exports  \n",
       "count              435.000000  435.000000         435.000000  \n",
       "mean                 0.537931    0.609195           0.400000  \n",
       "std                  0.499133    0.488493           0.490462  \n",
       "min                  0.000000    0.000000           0.000000  \n",
       "25%                  0.000000    0.000000           0.000000  \n",
       "50%                  1.000000    1.000000           0.000000  \n",
       "75%                  1.000000    1.000000           1.000000  \n",
       "max                  1.000000    1.000000           1.000000  "
      ]
     },
     "execution_count": 40,
     "metadata": {},
     "output_type": "execute_result"
    }
   ],
   "source": [
    "voting.describe()"
   ]
  },
  {
   "cell_type": "code",
   "execution_count": 41,
   "metadata": {
    "colab": {
     "base_uri": "https://localhost:8080/"
    },
    "id": "UzjCcGbdca2C",
    "outputId": "379b34b0-edca-4019-da11-aaf74159b0b6"
   },
   "outputs": [
    {
     "name": "stdout",
     "output_type": "stream",
     "text": [
      "<class 'pandas.core.frame.DataFrame'>\n",
      "RangeIndex: 435 entries, 0 to 434\n",
      "Data columns (total 15 columns):\n",
      " #   Column                             Non-Null Count  Dtype\n",
      "---  ------                             --------------  -----\n",
      " 0   label                              435 non-null    int32\n",
      " 1   handicapped-infants                435 non-null    int32\n",
      " 2   adoption-of-the-budget-resolution  435 non-null    int32\n",
      " 3   physician-fee-freeze               435 non-null    int32\n",
      " 4   el-salvador-aid                    435 non-null    int32\n",
      " 5   religious-groups-in-schools        435 non-null    int32\n",
      " 6   anti-satellite-test-ban            435 non-null    int32\n",
      " 7   aid-to-nicaraguan-contras          435 non-null    int32\n",
      " 8   mx-missile                         435 non-null    int32\n",
      " 9   immigration                        435 non-null    int32\n",
      " 10  synfuels-corporation-cutback       435 non-null    int32\n",
      " 11  education-spending                 435 non-null    int32\n",
      " 12  superfund-right-to-sue             435 non-null    int32\n",
      " 13  crime                              435 non-null    int32\n",
      " 14  duty-free-exports                  435 non-null    int32\n",
      "dtypes: int32(15)\n",
      "memory usage: 25.6 KB\n"
     ]
    }
   ],
   "source": [
    "voting.info()"
   ]
  },
  {
   "cell_type": "code",
   "execution_count": 42,
   "metadata": {
    "colab": {
     "base_uri": "https://localhost:8080/",
     "height": 258
    },
    "id": "fmJKyM68ca2D",
    "outputId": "ccef25e7-4584-4ec4-eb0d-a49ae567aad7"
   },
   "outputs": [
    {
     "data": {
      "text/html": [
       "<div>\n",
       "<style scoped>\n",
       "    .dataframe tbody tr th:only-of-type {\n",
       "        vertical-align: middle;\n",
       "    }\n",
       "\n",
       "    .dataframe tbody tr th {\n",
       "        vertical-align: top;\n",
       "    }\n",
       "\n",
       "    .dataframe thead th {\n",
       "        text-align: right;\n",
       "    }\n",
       "</style>\n",
       "<table border=\"1\" class=\"dataframe\">\n",
       "  <thead>\n",
       "    <tr style=\"text-align: right;\">\n",
       "      <th></th>\n",
       "      <th>label</th>\n",
       "      <th>handicapped-infants</th>\n",
       "      <th>adoption-of-the-budget-resolution</th>\n",
       "      <th>physician-fee-freeze</th>\n",
       "      <th>el-salvador-aid</th>\n",
       "      <th>religious-groups-in-schools</th>\n",
       "      <th>anti-satellite-test-ban</th>\n",
       "      <th>aid-to-nicaraguan-contras</th>\n",
       "      <th>mx-missile</th>\n",
       "      <th>immigration</th>\n",
       "      <th>synfuels-corporation-cutback</th>\n",
       "      <th>education-spending</th>\n",
       "      <th>superfund-right-to-sue</th>\n",
       "      <th>crime</th>\n",
       "      <th>duty-free-exports</th>\n",
       "    </tr>\n",
       "  </thead>\n",
       "  <tbody>\n",
       "    <tr>\n",
       "      <th>0</th>\n",
       "      <td>1</td>\n",
       "      <td>0</td>\n",
       "      <td>0</td>\n",
       "      <td>1</td>\n",
       "      <td>1</td>\n",
       "      <td>1</td>\n",
       "      <td>0</td>\n",
       "      <td>0</td>\n",
       "      <td>0</td>\n",
       "      <td>1</td>\n",
       "      <td>0</td>\n",
       "      <td>1</td>\n",
       "      <td>1</td>\n",
       "      <td>1</td>\n",
       "      <td>0</td>\n",
       "    </tr>\n",
       "    <tr>\n",
       "      <th>1</th>\n",
       "      <td>1</td>\n",
       "      <td>0</td>\n",
       "      <td>0</td>\n",
       "      <td>1</td>\n",
       "      <td>1</td>\n",
       "      <td>1</td>\n",
       "      <td>0</td>\n",
       "      <td>0</td>\n",
       "      <td>0</td>\n",
       "      <td>0</td>\n",
       "      <td>0</td>\n",
       "      <td>1</td>\n",
       "      <td>1</td>\n",
       "      <td>1</td>\n",
       "      <td>0</td>\n",
       "    </tr>\n",
       "    <tr>\n",
       "      <th>2</th>\n",
       "      <td>0</td>\n",
       "      <td>0</td>\n",
       "      <td>1</td>\n",
       "      <td>0</td>\n",
       "      <td>1</td>\n",
       "      <td>1</td>\n",
       "      <td>0</td>\n",
       "      <td>0</td>\n",
       "      <td>0</td>\n",
       "      <td>0</td>\n",
       "      <td>1</td>\n",
       "      <td>0</td>\n",
       "      <td>1</td>\n",
       "      <td>1</td>\n",
       "      <td>0</td>\n",
       "    </tr>\n",
       "    <tr>\n",
       "      <th>3</th>\n",
       "      <td>0</td>\n",
       "      <td>0</td>\n",
       "      <td>1</td>\n",
       "      <td>0</td>\n",
       "      <td>1</td>\n",
       "      <td>1</td>\n",
       "      <td>0</td>\n",
       "      <td>0</td>\n",
       "      <td>0</td>\n",
       "      <td>0</td>\n",
       "      <td>1</td>\n",
       "      <td>0</td>\n",
       "      <td>1</td>\n",
       "      <td>0</td>\n",
       "      <td>0</td>\n",
       "    </tr>\n",
       "    <tr>\n",
       "      <th>4</th>\n",
       "      <td>0</td>\n",
       "      <td>1</td>\n",
       "      <td>1</td>\n",
       "      <td>0</td>\n",
       "      <td>1</td>\n",
       "      <td>1</td>\n",
       "      <td>0</td>\n",
       "      <td>0</td>\n",
       "      <td>0</td>\n",
       "      <td>0</td>\n",
       "      <td>1</td>\n",
       "      <td>0</td>\n",
       "      <td>1</td>\n",
       "      <td>1</td>\n",
       "      <td>1</td>\n",
       "    </tr>\n",
       "  </tbody>\n",
       "</table>\n",
       "</div>"
      ],
      "text/plain": [
       "   label  handicapped-infants  adoption-of-the-budget-resolution  \\\n",
       "0      1                    0                                  0   \n",
       "1      1                    0                                  0   \n",
       "2      0                    0                                  1   \n",
       "3      0                    0                                  1   \n",
       "4      0                    1                                  1   \n",
       "\n",
       "   physician-fee-freeze  el-salvador-aid  religious-groups-in-schools  \\\n",
       "0                     1                1                            1   \n",
       "1                     1                1                            1   \n",
       "2                     0                1                            1   \n",
       "3                     0                1                            1   \n",
       "4                     0                1                            1   \n",
       "\n",
       "   anti-satellite-test-ban  aid-to-nicaraguan-contras  mx-missile  \\\n",
       "0                        0                          0           0   \n",
       "1                        0                          0           0   \n",
       "2                        0                          0           0   \n",
       "3                        0                          0           0   \n",
       "4                        0                          0           0   \n",
       "\n",
       "   immigration  synfuels-corporation-cutback  education-spending  \\\n",
       "0            1                             0                   1   \n",
       "1            0                             0                   1   \n",
       "2            0                             1                   0   \n",
       "3            0                             1                   0   \n",
       "4            0                             1                   0   \n",
       "\n",
       "   superfund-right-to-sue  crime  duty-free-exports  \n",
       "0                       1      1                  0  \n",
       "1                       1      1                  0  \n",
       "2                       1      1                  0  \n",
       "3                       1      0                  0  \n",
       "4                       1      1                  1  "
      ]
     },
     "execution_count": 42,
     "metadata": {},
     "output_type": "execute_result"
    }
   ],
   "source": [
    "voting.head()"
   ]
  },
  {
   "cell_type": "code",
   "execution_count": 43,
   "metadata": {
    "id": "dbacLCq2ca2E"
   },
   "outputs": [],
   "source": [
    "y=voting.label\n",
    "X=voting.drop(columns=['label']).values\n"
   ]
  },
  {
   "cell_type": "code",
   "execution_count": 44,
   "metadata": {
    "colab": {
     "base_uri": "https://localhost:8080/"
    },
    "id": "Gx2ptsloca2E",
    "outputId": "0c21c779-6929-446a-c1b7-05df863065b9"
   },
   "outputs": [
    {
     "name": "stdout",
     "output_type": "stream",
     "text": [
      "Split: 0\n",
      "Split: 1\n",
      "Split: 2\n",
      "Split: 3\n",
      "Split: 4\n",
      "Split: 5\n",
      "Split: 6\n",
      "Split: 7\n",
      "Split: 8\n",
      "Split: 9\n"
     ]
    }
   ],
   "source": [
    "nbc = NBC(feature_types=['b'] * 14)\n",
    "lr = LogisticRegression(random_state=0)\n",
    "tst_errs_nbc, tst_errs_lr = compareNBCvsLR(nbc, lr, X, y, num_runs=1000, num_splits=10)"
   ]
  },
  {
   "cell_type": "code",
   "execution_count": 45,
   "metadata": {
    "colab": {
     "base_uri": "https://localhost:8080/",
     "height": 648
    },
    "id": "6n4SL1Gcca2F",
    "outputId": "33ae7c86-d977-49f0-fcf2-87ccc84b954f"
   },
   "outputs": [
    {
     "data": {
      "image/png": "[encoded data removed]",
      "text/plain": [
       "<Figure size 720x720 with 1 Axes>"
      ]
     },
     "metadata": {
      "needs_background": "light"
     },
     "output_type": "display_data"
    }
   ],
   "source": [
    "makePlot(tst_errs_nbc, tst_errs_lr, title='Dataset_2_voting', num_splits=10)"
   ]
  },
  {
   "cell_type": "code",
   "execution_count": 46,
   "metadata": {
    "id": "XPT0B-zB35vB"
   },
   "outputs": [],
   "source": [
    "voting_2 = voting.sample(n=100)\n"
   ]
  },
  {
   "cell_type": "code",
   "execution_count": 47,
   "metadata": {
    "id": "hfH5QLAi39Ga"
   },
   "outputs": [],
   "source": [
    "voting_2.reset_index(inplace=True)"
   ]
  },
  {
   "cell_type": "code",
   "execution_count": 48,
   "metadata": {
    "id": "8WJ1p2Tw1qmx"
   },
   "outputs": [],
   "source": [
    "y=voting_2.label\n",
    "X=voting_2.drop(columns=['label']).values"
   ]
  },
  {
   "cell_type": "code",
   "execution_count": 49,
   "metadata": {
    "colab": {
     "base_uri": "https://localhost:8080/"
    },
    "id": "UUQb9RZT1qmx",
    "outputId": "e13930fc-9ce0-4e2c-d968-941da7df14b5"
   },
   "outputs": [
    {
     "name": "stdout",
     "output_type": "stream",
     "text": [
      "Split: 0\n",
      "Split: 1\n",
      "Split: 2\n",
      "Split: 3\n",
      "Split: 4\n",
      "Split: 5\n",
      "Split: 6\n",
      "Split: 7\n",
      "Split: 8\n",
      "Split: 9\n",
      "Split: 10\n",
      "Split: 11\n",
      "Split: 12\n",
      "Split: 13\n",
      "Split: 14\n",
      "Split: 15\n",
      "Split: 16\n",
      "Split: 17\n",
      "Split: 18\n",
      "Split: 19\n"
     ]
    }
   ],
   "source": [
    "nbc = NBC(feature_types=['b'] * 14)\n",
    "lr = LogisticRegression(random_state=0)\n",
    "tst_errs_nbc_2, tst_errs_lr_2 = compareNBCvsLR(nbc, lr, X, y, num_runs=400, num_splits=20)"
   ]
  },
  {
   "cell_type": "code",
   "execution_count": 50,
   "metadata": {
    "colab": {
     "base_uri": "https://localhost:8080/",
     "height": 322
    },
    "id": "rkHW0qpW4ZiD",
    "outputId": "3123a16e-d30a-4186-95e4-1fc4ecf7371d"
   },
   "outputs": [
    {
     "data": {
      "image/png": "[encoded data removed]",
      "text/plain": [
       "<Figure size 720x720 with 1 Axes>"
      ]
     },
     "metadata": {
      "needs_background": "light"
     },
     "output_type": "display_data"
    }
   ],
   "source": [
    "makePlot(tst_errs_nbc_2, tst_errs_lr_2, title='Dataset_2_voting small data', num_splits=20)"
   ]
  },
  {
   "cell_type": "code",
   "execution_count": 51,
   "metadata": {
    "colab": {
     "base_uri": "https://localhost:8080/"
    },
    "id": "uJrJSQSn5KWE",
    "outputId": "1c84f560-7ed5-4828-e0fd-e7f9a132528c"
   },
   "outputs": [
    {
     "name": "stdout",
     "output_type": "stream",
     "text": [
      "Split: 0\n",
      "Split: 1\n",
      "Split: 2\n",
      "Split: 3\n",
      "Split: 4\n",
      "Split: 5\n",
      "Split: 6\n",
      "Split: 7\n",
      "Split: 8\n",
      "Split: 9\n",
      "Split: 10\n",
      "Split: 11\n",
      "Split: 12\n",
      "Split: 13\n",
      "Split: 14\n",
      "Split: 15\n",
      "Split: 16\n",
      "Split: 17\n",
      "Split: 18\n",
      "Split: 19\n",
      "Split: 20\n",
      "Split: 21\n",
      "Split: 22\n",
      "Split: 23\n",
      "Split: 24\n",
      "Split: 25\n",
      "Split: 26\n",
      "Split: 27\n",
      "Split: 28\n",
      "Split: 29\n",
      "Split: 30\n",
      "Split: 31\n",
      "Split: 32\n",
      "Split: 33\n",
      "Split: 34\n",
      "Split: 35\n",
      "Split: 36\n",
      "Split: 37\n",
      "Split: 38\n",
      "Split: 39\n"
     ]
    }
   ],
   "source": [
    "y=voting.label\n",
    "X=voting.drop(columns=['label']).values\n",
    "nbc = NBC(feature_types=['b'] * 14)\n",
    "lr = LogisticRegression(random_state=0)\n",
    "tst_errs_nbc_3, tst_errs_lr_3 = compareNBCvsLR(nbc, lr, X, y, num_runs=300, num_splits=40)"
   ]
  },
  {
   "cell_type": "code",
   "execution_count": 52,
   "metadata": {
    "colab": {
     "base_uri": "https://localhost:8080/",
     "height": 322
    },
    "id": "3AS5HeaA5WYu",
    "outputId": "9d223406-622e-4859-ef3f-5a2b57cc17c1"
   },
   "outputs": [
    {
     "data": {
      "image/png": "[encoded data removed]",
      "text/plain": [
       "<Figure size 720x720 with 1 Axes>"
      ]
     },
     "metadata": {
      "needs_background": "light"
     },
     "output_type": "display_data"
    }
   ],
   "source": [
    "makePlot(tst_errs_nbc_3, tst_errs_lr_3, title='Dataset_2_voting small data', num_splits=40)"
   ]
  },
  {
   "cell_type": "markdown",
   "metadata": {
    "id": "1oUus7cXca2F"
   },
   "source": [
    "# Report dataset 2"
   ]
  },
  {
   "cell_type": "markdown",
   "metadata": {
    "id": "FER2QDd3ca2F"
   },
   "source": [
    " \n"
   ]
  },
  {
   "cell_type": "markdown",
   "metadata": {
    "id": "eYxmK4omca2F"
   },
   "source": [
    "For the second dataset I dropped the 2 columns with the most null values. And for the other ones I modified null values to the most common value in the column. I chose this method because I did not want to delete any rows. I also modified all values by 0 or 1 because in all columns there were only 2 possible results"
   ]
  },
  {
   "cell_type": "markdown",
   "metadata": {
    "id": "tQk98OR6ca2F"
   },
   "source": [
    "In the first graph with the dataset 2, the Logistic regression classifier is better than the Naive Bayes classifier no matter the percent of training data used. The results of the Naive Bayes classifier remains relatively the same no matter the percent of training data. Whereas for the Logistic Regression classifier the classification error gets lower as we we increase the percent of training data."
   ]
  },
  {
   "cell_type": "markdown",
   "metadata": {
    "id": "85zH4G7aca2G"
   },
   "source": [
    "In the second graph with the dataset 2 (limited with 100 data points) and 20 splits, the error for Naive Bayes Classifier remains relatively stable no matter the percent of data. Whereas for the Logistic Regression classifier the classification error gets lower really rapidly at the beginning (and is even higher than the Naive bayes at the beginning)  as we we increase the percent of training data."
   ]
  },
  {
   "cell_type": "markdown",
   "metadata": {
    "id": "ocefOTfOca2G"
   },
   "source": [
    "In the third graph with the entire dataset but with more splits, we can observe something similar to the first graph but with more details. To observe this I increased the number of splits (few points are used to train the model)"
   ]
  },
  {
   "cell_type": "code",
   "execution_count": null,
   "metadata": {},
   "outputs": [],
   "source": []
  }
 ],
 "metadata": {
  "colab": {
   "collapsed_sections": [],
   "name": "Practical2_skeleton_(10)_(6)_(1) (1).ipynb",
   "provenance": []
  },
  "kernelspec": {
   "display_name": "Python 3",
   "language": "python",
   "name": "python3"
  },
  "language_info": {
   "codemirror_mode": {
    "name": "ipython",
    "version": 3
   },
   "file_extension": ".py",
   "mimetype": "text/x-python",
   "name": "python",
   "nbconvert_exporter": "python",
   "pygments_lexer": "ipython3",
   "version": "3.8.8"
  }
 },
 "nbformat": 4,
 "nbformat_minor": 1
}
